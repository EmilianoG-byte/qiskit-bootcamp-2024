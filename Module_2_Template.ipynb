{
  "cells": [
    {
      "cell_type": "markdown",
      "id": "21b8188b-7f95-46b5-87cf-85db6c6f5280",
      "metadata": {
        "tags": [],
        "id": "21b8188b-7f95-46b5-87cf-85db6c6f5280"
      },
      "source": [
        "# Contents\n",
        "\n",
        "### Module 2\n",
        "- The Qasm Simulator\n",
        "- Extending Circuits\n",
        "- Barrier and Measurements\n",
        "- Histogram Plots\n",
        "- Sending Jobs to IBM QPUs\n",
        "- Job Monitoring\n",
        "- State initialization \n",
        "- Fidelity"
      ]
    },
    {
      "cell_type": "code",
      "execution_count": null,
      "id": "88c54126-7dda-4418-9226-4514ee5765b3",
      "metadata": {
        "id": "88c54126-7dda-4418-9226-4514ee5765b3",
        "outputId": "b30e892f-5b86-4da8-d6a8-03cb9f0760fa"
      },
      "outputs": [
        {
          "name": "stderr",
          "output_type": "stream",
          "text": [
            "<frozen importlib._bootstrap>:219: RuntimeWarning: scipy._lib.messagestream.MessageStream size changed, may indicate binary incompatibility. Expected 56 from C header, got 64 from PyObject\n"
          ]
        }
      ],
      "source": [
        "import numpy as np\n",
        "\n",
        "# Importing standard Qiskit libraries\n",
        "from qiskit import *\n",
        "from qiskit.tools.jupyter import *\n",
        "from qiskit.visualization import *\n",
        "from ibm_quantum_widgets import *\n",
        "from qiskit.providers.aer import QasmSimulator\n",
        "\n",
        "# Loading your IBM Quantum account(s)\n",
        "provider = IBMQ.load_account()"
      ]
    },
    {
      "cell_type": "markdown",
      "id": "d5993c77-16d0-45ea-a7e2-ba8f15886c6e",
      "metadata": {
        "id": "d5993c77-16d0-45ea-a7e2-ba8f15886c6e"
      },
      "source": [
        "### Qasm Simulator\n",
        "Up until now, we've used deterministic maths to get State and Unitary information. Now we'll start sampling from the actual circuits we have. For this, we'll need measurements. Of course, with measurements, we'll have to deal with shot noise, meaning we have to average over many runs. Let's check the backends we had with Aer and define a circuit simulator with QASM."
      ]
    },
    {
      "cell_type": "code",
      "execution_count": null,
      "id": "1f463a4b-2b67-4289-9d80-345944ea65c7",
      "metadata": {
        "id": "1f463a4b-2b67-4289-9d80-345944ea65c7"
      },
      "outputs": [],
      "source": []
    },
    {
      "cell_type": "code",
      "execution_count": null,
      "id": "a1825d17-538e-424a-a6d9-4ef249eed003",
      "metadata": {
        "id": "a1825d17-538e-424a-a6d9-4ef249eed003"
      },
      "outputs": [],
      "source": []
    },
    {
      "cell_type": "markdown",
      "id": "10042bb4-f2ec-492d-a3f0-063fcf2b70f8",
      "metadata": {
        "id": "10042bb4-f2ec-492d-a3f0-063fcf2b70f8"
      },
      "source": [
        "Let's create a generic and easy circuit to do our testing with"
      ]
    },
    {
      "cell_type": "code",
      "execution_count": null,
      "id": "04a9a16a-5154-42db-a6c8-da8b9e1173e8",
      "metadata": {
        "id": "04a9a16a-5154-42db-a6c8-da8b9e1173e8"
      },
      "outputs": [],
      "source": []
    },
    {
      "cell_type": "markdown",
      "id": "b83f0a61-a1ea-4cc8-8a4b-b2f9f73eab60",
      "metadata": {
        "id": "b83f0a61-a1ea-4cc8-8a4b-b2f9f73eab60"
      },
      "source": [
        "Now as you might notice, we still don't have any measurements in this circuit.\n",
        "A quick and easy way to add measurements to all of your qubits is to use the measure_all method."
      ]
    },
    {
      "cell_type": "code",
      "execution_count": null,
      "id": "a332506d-4f4c-4d3b-b291-1c271d1879f2",
      "metadata": {
        "id": "a332506d-4f4c-4d3b-b291-1c271d1879f2"
      },
      "outputs": [],
      "source": []
    },
    {
      "cell_type": "markdown",
      "id": "1fc3f8d5-72fa-4fa2-b6ed-f94958c4663e",
      "metadata": {
        "id": "1fc3f8d5-72fa-4fa2-b6ed-f94958c4663e"
      },
      "source": [
        "Now, as you can see, the measure_all method has added measurements to our circuit which had no classical registers or measurements prior. It is really important to know that this method creates new classical registers while adding measurements. So it's best employed for circuits that don't have pre-defined classical registers.\n",
        "\n",
        "With that out of the way, now we have a circuit simulator and a circuit at our disposal. All that is left to do, is to actually perform the experiment. Now the way to do this, in form, is exactly the same with state and unitary simulators. The only thing that's going to change is how we visualise the information."
      ]
    },
    {
      "cell_type": "code",
      "execution_count": null,
      "id": "307b8bc4-87ef-4ef8-b549-e6d2db4de216",
      "metadata": {
        "id": "307b8bc4-87ef-4ef8-b549-e6d2db4de216"
      },
      "outputs": [],
      "source": []
    },
    {
      "cell_type": "markdown",
      "id": "78e55d44-6e89-41f8-8194-37ae334fb08d",
      "metadata": {
        "id": "78e55d44-6e89-41f8-8194-37ae334fb08d"
      },
      "source": [
        "As we can see, running the experiment gave us our expected product state. However, notice now that the probabilities of getting these two computational states are not equal. This is the shot noise introducing the probabilistic nature of measurements. In principle, if we could do infinitely many measurements and average them, we'd get exactly 1/2 for each.\n",
        "\n",
        "Let's now create a GHZ circuit for a similar demonstration. This time however, we'll be looking at another way to introduce measurements."
      ]
    },
    {
      "cell_type": "code",
      "execution_count": null,
      "id": "71c928b5-0c1c-467d-851f-1cce75e49a39",
      "metadata": {
        "id": "71c928b5-0c1c-467d-851f-1cce75e49a39"
      },
      "outputs": [],
      "source": []
    },
    {
      "cell_type": "markdown",
      "id": "c02313c9-019a-4b60-aaa6-b37ad424164c",
      "metadata": {
        "id": "c02313c9-019a-4b60-aaa6-b37ad424164c"
      },
      "source": [
        "Now, I'll be creating a separate circuit with explicit measurements. I could've done this within the circuit. But here we will kill 2 birds with one stone and employ the compose method.\n",
        "\n",
        "Notice here, we are also for the first time utilizing this 'barrier' operation. "
      ]
    },
    {
      "cell_type": "code",
      "execution_count": null,
      "id": "7a55c7d9-9e20-42b9-a397-83d35d3ae3a5",
      "metadata": {
        "id": "7a55c7d9-9e20-42b9-a397-83d35d3ae3a5"
      },
      "outputs": [],
      "source": []
    },
    {
      "cell_type": "markdown",
      "id": "145984e3-d6e8-44cc-9794-b5cb7570e4db",
      "metadata": {
        "id": "145984e3-d6e8-44cc-9794-b5cb7570e4db"
      },
      "source": [
        "First of all, what is this barrier? The barrier operation is a direction for circuit compilation that says, seperate before and after the barrier while compiling. It is also used for making things clearer in priting circuits. For example if we'd have repeating chunks of the same circuit with different parameters but we'd like to be able to see clearly which is which, a barrier would be a good way to separate them.\n",
        "\n",
        "Secondly, now I have two separate circuits. I have a GHZ circuit with no classical registers and measurements, and I have a measurement circuit with a barrier. Now I can use the compose method to put these circuits together and create a whole curcit. \n",
        "\n",
        "One important thing is, out of the box, compose works as adding the specified circuit to the tail of the existing circuit, so if we want to compose something beforehand, we must give it the flag front=True."
      ]
    },
    {
      "cell_type": "code",
      "execution_count": null,
      "id": "2c64182d-2f90-4a8b-bc51-2ec9dfe6a479",
      "metadata": {
        "id": "2c64182d-2f90-4a8b-bc51-2ec9dfe6a479"
      },
      "outputs": [],
      "source": []
    },
    {
      "cell_type": "markdown",
      "id": "05ef2039-0db3-4336-bd08-8437a49451bc",
      "metadata": {
        "id": "05ef2039-0db3-4336-bd08-8437a49451bc"
      },
      "source": [
        "Now that we have this new circuit with measurements, let's again run some experiments by sampling the circuit. \n",
        "And to really signify the stochastic nature of shot noise, let's sample the same circuit two times.\n",
        "\n",
        "And this time, instead of getting nice histograms, just for completion, we'll get the counts themselves as a dictionary."
      ]
    },
    {
      "cell_type": "code",
      "execution_count": null,
      "id": "1f59219d-c431-45f6-9c8a-6ae82bf22371",
      "metadata": {
        "id": "1f59219d-c431-45f6-9c8a-6ae82bf22371"
      },
      "outputs": [],
      "source": []
    },
    {
      "cell_type": "code",
      "execution_count": null,
      "id": "4d1f2fc4-140c-4792-9af6-bab5c6bf01c1",
      "metadata": {
        "id": "4d1f2fc4-140c-4792-9af6-bab5c6bf01c1"
      },
      "outputs": [],
      "source": []
    },
    {
      "cell_type": "code",
      "execution_count": null,
      "id": "a4ba8975-579d-4180-aaec-803866c786c2",
      "metadata": {
        "id": "a4ba8975-579d-4180-aaec-803866c786c2"
      },
      "outputs": [],
      "source": []
    },
    {
      "cell_type": "markdown",
      "id": "38dcc61f-51e8-40f8-99b1-4baa437965df",
      "metadata": {
        "id": "38dcc61f-51e8-40f8-99b1-4baa437965df"
      },
      "source": [
        "Now we have 2 different experiments from the same circuit, and we can already see that they don't perfectly match.\n",
        "Furthermore, we could nicely visualize the two experiments with the plot_histograms method. Let's do that.\n",
        "\n",
        "First of all, let's give the names as a legend list."
      ]
    },
    {
      "cell_type": "code",
      "execution_count": null,
      "id": "d59d4a23-fe09-4590-8cd0-aa376c3515b6",
      "metadata": {
        "id": "d59d4a23-fe09-4590-8cd0-aa376c3515b6"
      },
      "outputs": [],
      "source": []
    },
    {
      "cell_type": "markdown",
      "id": "34ff7132-3ca6-4a6f-8fd1-253013b994a1",
      "metadata": {
        "id": "34ff7132-3ca6-4a6f-8fd1-253013b994a1"
      },
      "source": [
        "How about if we'd like to run experiments on an actual quantum machine provided by IBM?\n",
        "This, we'll do on a separate notebook for runtime reasons!"
      ]
    },
    {
      "cell_type": "markdown",
      "id": "a72627b7-3629-42af-a208-c08989dfd96b",
      "metadata": {
        "id": "a72627b7-3629-42af-a208-c08989dfd96b"
      },
      "source": [
        "Okay we've seen how we can run actual experiments, both on the QASM simulator and on a real IBM device. As well as how to visualize the results in histograms.\n",
        "Now let's look at something a little different. Let's say, we have a quantum protocol in which we'd like to see how a specific state evolves. Can we initialize with this specific state? The answer is, yes. For simulation purposes."
      ]
    },
    {
      "cell_type": "code",
      "execution_count": null,
      "id": "eda16aed-1ab1-46c1-9016-856b3a3ceb7f",
      "metadata": {
        "id": "eda16aed-1ab1-46c1-9016-856b3a3ceb7f"
      },
      "outputs": [],
      "source": []
    },
    {
      "cell_type": "code",
      "execution_count": null,
      "id": "44ee68b9-72b1-480d-91b8-df0aafcceb11",
      "metadata": {
        "id": "44ee68b9-72b1-480d-91b8-df0aafcceb11"
      },
      "outputs": [],
      "source": []
    },
    {
      "cell_type": "code",
      "execution_count": null,
      "id": "a9d42715-adfe-473e-8efa-9a651679cfe0",
      "metadata": {
        "id": "a9d42715-adfe-473e-8efa-9a651679cfe0"
      },
      "outputs": [],
      "source": []
    },
    {
      "cell_type": "markdown",
      "id": "2730e90a-337d-4e1b-b754-fd4c428b546f",
      "metadata": {
        "id": "2730e90a-337d-4e1b-b754-fd4c428b546f"
      },
      "source": [
        "Let's check if the State prep. and the QASM simulators match up?"
      ]
    },
    {
      "cell_type": "code",
      "execution_count": null,
      "id": "e4aaae1f-1cad-489c-a9bf-6223a6b7150d",
      "metadata": {
        "id": "e4aaae1f-1cad-489c-a9bf-6223a6b7150d"
      },
      "outputs": [],
      "source": []
    },
    {
      "cell_type": "code",
      "execution_count": null,
      "id": "aa3edacf-b839-45e4-91c9-b9ef13668254",
      "metadata": {
        "id": "aa3edacf-b839-45e4-91c9-b9ef13668254"
      },
      "outputs": [],
      "source": []
    },
    {
      "cell_type": "code",
      "execution_count": null,
      "id": "03e2e29c-df73-402d-8658-2e1c7baa1d72",
      "metadata": {
        "id": "03e2e29c-df73-402d-8658-2e1c7baa1d72"
      },
      "outputs": [],
      "source": []
    },
    {
      "cell_type": "markdown",
      "id": "5e149e8a-615e-45c5-8f77-3a5b9d565c68",
      "metadata": {
        "id": "5e149e8a-615e-45c5-8f77-3a5b9d565c68"
      },
      "source": [
        "How about the statevector that we acquire from this initialization, and what about the Operator form?"
      ]
    },
    {
      "cell_type": "markdown",
      "id": "813fdc55-4064-4141-b0fb-9607e56fcf18",
      "metadata": {
        "id": "813fdc55-4064-4141-b0fb-9607e56fcf18"
      },
      "source": []
    },
    {
      "cell_type": "code",
      "execution_count": null,
      "id": "993b8751-00a2-4564-a4b2-dbb185451226",
      "metadata": {
        "id": "993b8751-00a2-4564-a4b2-dbb185451226"
      },
      "outputs": [],
      "source": []
    },
    {
      "cell_type": "markdown",
      "id": "2cdb4a53-5aac-4489-8810-d7d9dc89b306",
      "metadata": {
        "id": "2cdb4a53-5aac-4489-8810-d7d9dc89b306"
      },
      "source": [
        "Really important to note here that the Unitary works because the qubit reset operation acts as an Identity here at the beginning of the circuit."
      ]
    },
    {
      "cell_type": "markdown",
      "id": "8b32aecd-46dc-4fa7-89e0-55f80a746241",
      "metadata": {
        "id": "8b32aecd-46dc-4fa7-89e0-55f80a746241"
      },
      "source": [
        "State and Gate/Process fidelity are two very important concepts in Quantum Information, let's now see how we can play with these within Qiskit.\n",
        "\n",
        "For the state process, let's compare the defined desired state (which is a numpy array defined by us) and the state obtained from the simulation. We know if everything worked perfectly during state preparation, we should get Fidelity = 1."
      ]
    },
    {
      "cell_type": "code",
      "execution_count": null,
      "id": "275aec0b-ff21-4567-9b32-0296a6968f2d",
      "metadata": {
        "id": "275aec0b-ff21-4567-9b32-0296a6968f2d"
      },
      "outputs": [],
      "source": []
    },
    {
      "cell_type": "markdown",
      "id": "c0e26856-570e-4104-b076-ede328d3f9f0",
      "metadata": {
        "id": "c0e26856-570e-4104-b076-ede328d3f9f0"
      },
      "source": [
        "Now that we've checked state fidelity, how about gate/process fidelity?\n",
        "To do this, let's also see a new way of calling a Gate definition directly and wrap it up as a Unitary operator object like we've done in the last lecture. We'll then also create another operator just differing from the first by an overall phase, and thus if we compare the fidelities, we should find they are the same. Let's see how this works."
      ]
    },
    {
      "cell_type": "code",
      "execution_count": null,
      "id": "6f3c2aa4-7952-4fd7-bf29-827b180fc7a6",
      "metadata": {
        "id": "6f3c2aa4-7952-4fd7-bf29-827b180fc7a6"
      },
      "outputs": [],
      "source": []
    },
    {
      "cell_type": "code",
      "execution_count": null,
      "id": "097c6a89-836c-4889-8796-16da35974e68",
      "metadata": {
        "id": "097c6a89-836c-4889-8796-16da35974e68"
      },
      "outputs": [],
      "source": []
    },
    {
      "cell_type": "markdown",
      "id": "a591250a-411b-4edc-97f9-a913c0e0b65b",
      "metadata": {
        "id": "a591250a-411b-4edc-97f9-a913c0e0b65b"
      },
      "source": [
        "Now we'll do something quite distinct to what we've been doing so far.\n",
        "So far we've been using pre-defined gates from a pretty well known gate set to construct circuits.\n",
        "And this makes sense, because universality implies that whichever gate we use really don't matter theoretically.\n",
        "Of course that argument doesn't take into account how efficient a circuit can be, or for the programmer, how easy it will be to write a quantum program.\n",
        "\n",
        "For the latter point, we'll be looking at how we can create custom gates via. different approaches."
      ]
    },
    {
      "cell_type": "code",
      "execution_count": null,
      "id": "ae9ebc62-6c05-47c9-857c-598bb8bd762d",
      "metadata": {
        "id": "ae9ebc62-6c05-47c9-857c-598bb8bd762d"
      },
      "outputs": [],
      "source": []
    },
    {
      "cell_type": "code",
      "execution_count": null,
      "id": "aea48bad-4b56-4588-9baa-672ad635fe81",
      "metadata": {
        "id": "aea48bad-4b56-4588-9baa-672ad635fe81"
      },
      "outputs": [],
      "source": []
    },
    {
      "cell_type": "code",
      "execution_count": null,
      "id": "704c5b28-9eee-4b08-b271-562fbecafe1c",
      "metadata": {
        "id": "704c5b28-9eee-4b08-b271-562fbecafe1c"
      },
      "outputs": [],
      "source": []
    },
    {
      "cell_type": "markdown",
      "id": "61665a3d-59f1-4932-b32f-3b263fe637c4",
      "metadata": {
        "id": "61665a3d-59f1-4932-b32f-3b263fe637c4"
      },
      "source": [
        "What if I want to create a controlled, or better yet a multi-controlled version of a generic gate?"
      ]
    },
    {
      "cell_type": "code",
      "execution_count": null,
      "id": "50f8ba5a-d545-4c7b-9ba8-a7bf2a0dd4f3",
      "metadata": {
        "id": "50f8ba5a-d545-4c7b-9ba8-a7bf2a0dd4f3"
      },
      "outputs": [],
      "source": []
    },
    {
      "cell_type": "code",
      "execution_count": null,
      "id": "c3132eef-220d-402d-a019-8e80f3500e2a",
      "metadata": {
        "id": "c3132eef-220d-402d-a019-8e80f3500e2a"
      },
      "outputs": [],
      "source": []
    },
    {
      "cell_type": "markdown",
      "id": "53e7cf6c-0bc4-4ff1-915d-8282cea18bf6",
      "metadata": {
        "id": "53e7cf6c-0bc4-4ff1-915d-8282cea18bf6"
      },
      "source": [
        "Let's decompose this complicated gate definition?"
      ]
    },
    {
      "cell_type": "code",
      "execution_count": null,
      "id": "b46219ea-61fb-42a3-80f6-b9915b9fe027",
      "metadata": {
        "id": "b46219ea-61fb-42a3-80f6-b9915b9fe027"
      },
      "outputs": [],
      "source": []
    },
    {
      "cell_type": "markdown",
      "id": "55109150-6038-494f-932d-d7aac2ad8f39",
      "metadata": {
        "id": "55109150-6038-494f-932d-d7aac2ad8f39"
      },
      "source": [
        "Let's lastly look at what happens if I'd like to transpile to a certain basis?"
      ]
    },
    {
      "cell_type": "code",
      "execution_count": null,
      "id": "d44979d2-39a5-4054-ada1-0bb4ee97b6af",
      "metadata": {
        "id": "d44979d2-39a5-4054-ada1-0bb4ee97b6af"
      },
      "outputs": [],
      "source": []
    }
  ],
  "metadata": {
    "kernelspec": {
      "display_name": "Python 3 (ipykernel)",
      "language": "python",
      "name": "python3"
    },
    "language_info": {
      "codemirror_mode": {
        "name": "ipython",
        "version": 3
      },
      "file_extension": ".py",
      "mimetype": "text/x-python",
      "name": "python",
      "nbconvert_exporter": "python",
      "pygments_lexer": "ipython3",
      "version": "3.8.13"
    },
    "colab": {
      "provenance": []
    }
  },
  "nbformat": 4,
  "nbformat_minor": 5
}