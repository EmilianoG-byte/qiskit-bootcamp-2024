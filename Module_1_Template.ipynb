{
  "cells": [
    {
      "cell_type": "markdown",
      "id": "f0450e99-8cff-463e-b441-3e4a5144af1b",
      "metadata": {
        "id": "f0450e99-8cff-463e-b441-3e4a5144af1b"
      },
      "source": [
        "# Table of Contents\n",
        "\n",
        "### Module 1\n",
        "- About the Exam \n",
        "- Exam Syllabus \n",
        "- How will the course work?\n",
        "- Preliminary Imports\n",
        "- Quantum Circuits\n",
        "- Creating Superposition and Entanglement\n",
        "- Getting State information\n",
        "- Visualisation tools for States\n",
        "- Unitaries"
      ]
    },
    {
      "cell_type": "markdown",
      "id": "53c5d992-4f8d-49a4-b29b-a3defc8267a5",
      "metadata": {
        "id": "53c5d992-4f8d-49a4-b29b-a3defc8267a5"
      },
      "source": [
        "![image.png](https://i.ibb.co/YQxmqC2/Screenshot-2022-09-28-at-16-26-40.png)\n",
        "Ref: [IBM Quantum](https://www.ibm.com/training/certification/C0010300)"
      ]
    },
    {
      "cell_type": "markdown",
      "id": "fa3149e8-5c97-4cc9-96f6-5946821ad1df",
      "metadata": {
        "id": "fa3149e8-5c97-4cc9-96f6-5946821ad1df"
      },
      "source": [
        "![image.png](https://i.ibb.co/m991y83/Screenshot-2022-09-28-at-16-28-35.png)\n",
        "Ref: [IBM Quantum](https://www.ibm.com/training/certification/C0010300)"
      ]
    },
    {
      "cell_type": "markdown",
      "id": "df87d78f-1077-4152-ac46-e02eb9d88424",
      "metadata": {
        "id": "df87d78f-1077-4152-ac46-e02eb9d88424"
      },
      "source": [
        "# Exam Syllabus\n",
        "\n",
        "![image.png](https://i.ibb.co/zSMx3bF/Screenshot-2022-09-28-at-16-19-14.png)\n",
        "Ref: [James Weaver's slides, IBM Quantum](https://slides.com/javafxpert/prep-qiskit-dev-cert-exam)"
      ]
    },
    {
      "cell_type": "markdown",
      "id": "e3bcdfd0-a28d-480e-9741-e3516259a2c8",
      "metadata": {
        "id": "e3bcdfd0-a28d-480e-9741-e3516259a2c8"
      },
      "source": [
        "### Preliminary Imports\n",
        "\n",
        "Normally, it's non-ideal to import everything for the sake of memory and time. However, here we're doing it the 'easy way' to avoid issues that you might have during the lecture for a smoother experience. There are a couple of important imports which we'll go over regardless during today's lecture."
      ]
    },
    {
      "cell_type": "code",
      "execution_count": null,
      "id": "ff56faca-83c1-46f1-94df-9d5647290b95",
      "metadata": {
        "id": "ff56faca-83c1-46f1-94df-9d5647290b95",
        "outputId": "330d3c3e-a760-4b40-9a0f-5ddf508e8c6e"
      },
      "outputs": [
        {
          "name": "stderr",
          "output_type": "stream",
          "text": [
            "ibmqfactory.load_account:WARNING:2022-09-29 15:16:12,003: Credentials are already in use. The existing account in the session will be replaced.\n"
          ]
        }
      ],
      "source": [
        "import numpy as np\n",
        "# Importing standard Qiskit libraries\n",
        "from qiskit import *\n",
        "from qiskit.tools.jupyter import *\n",
        "from qiskit.visualization import *\n",
        "from ibm_quantum_widgets import *\n",
        "\n",
        "# Loading your IBM Quantum account(s)\n",
        "provider = IBMQ.load_account()"
      ]
    },
    {
      "cell_type": "markdown",
      "id": "1d83bbbd-b934-48ad-ac49-05299e214403",
      "metadata": {
        "id": "1d83bbbd-b934-48ad-ac49-05299e214403"
      },
      "source": [
        "As we all hear again and again, the power of quantum computing comes from superposition and entanglement. Thus, it makes sense to have our first circuits create superposition and entanglement. To keep things simple, let’s start with 2 qubits:\n",
        "\n",
        "- The way we do this in Qiskit is to define a QuantumCircuit object\n",
        "- We can either directly give it an integer or we could explicitly specify quantum and classical registers"
      ]
    },
    {
      "cell_type": "code",
      "execution_count": null,
      "id": "a975f0fa-5ef0-4c3b-af36-8d1e797476d1",
      "metadata": {
        "id": "a975f0fa-5ef0-4c3b-af36-8d1e797476d1"
      },
      "outputs": [],
      "source": []
    },
    {
      "cell_type": "code",
      "execution_count": null,
      "id": "9fdfb070-4435-45dc-819c-e974bbe7cab3",
      "metadata": {
        "id": "9fdfb070-4435-45dc-819c-e974bbe7cab3"
      },
      "outputs": [],
      "source": []
    },
    {
      "cell_type": "code",
      "execution_count": null,
      "id": "f5e5393d-0eba-4f2b-844d-a664c7aa7a38",
      "metadata": {
        "id": "f5e5393d-0eba-4f2b-844d-a664c7aa7a38"
      },
      "outputs": [],
      "source": []
    },
    {
      "cell_type": "code",
      "execution_count": null,
      "id": "203ac78e-42b4-4535-9d9f-6ff65e75a136",
      "metadata": {
        "id": "203ac78e-42b4-4535-9d9f-6ff65e75a136"
      },
      "outputs": [],
      "source": []
    },
    {
      "cell_type": "markdown",
      "id": "44211149-9335-4aa2-b9cb-1c883e31a4ab",
      "metadata": {
        "id": "44211149-9335-4aa2-b9cb-1c883e31a4ab"
      },
      "source": [
        "Note: When you are working in the Quantum Experience, the default mode of drawing a circuit, even when nothing is specified is, matplotlib. For those of you who might be working in local environments, to get these colorful nice looking circuits you would need to specify 'mpl' into the draw method. In fact we can also call it with 'text' and see what happens."
      ]
    },
    {
      "cell_type": "code",
      "execution_count": null,
      "id": "606a006a-a556-4774-b846-b1905be6ce0f",
      "metadata": {
        "id": "606a006a-a556-4774-b846-b1905be6ce0f"
      },
      "outputs": [],
      "source": []
    },
    {
      "cell_type": "code",
      "execution_count": null,
      "id": "0fba3a83-09dc-400e-85c2-db7bd896b874",
      "metadata": {
        "id": "0fba3a83-09dc-400e-85c2-db7bd896b874"
      },
      "outputs": [],
      "source": []
    },
    {
      "cell_type": "markdown",
      "id": "dde48b82-c662-4ad8-a68c-5dc8160b6510",
      "metadata": {
        "id": "dde48b82-c662-4ad8-a68c-5dc8160b6510"
      },
      "source": [
        "To get information about our state we’ll use the qiskit quantum info module from which we’ll import the Statevector object. This allows us to define initial states in many ways and evolve those states according to the given circuit. We can define initial states via. different methods and we’ll demonstrate two of them here. "
      ]
    },
    {
      "cell_type": "code",
      "execution_count": null,
      "id": "1c2496ed-f924-430d-880f-49d4ee7c5417",
      "metadata": {
        "id": "1c2496ed-f924-430d-880f-49d4ee7c5417"
      },
      "outputs": [],
      "source": []
    },
    {
      "cell_type": "code",
      "execution_count": null,
      "id": "3d856f17-5fe4-4eb1-a608-8b8e1216e388",
      "metadata": {
        "id": "3d856f17-5fe4-4eb1-a608-8b8e1216e388"
      },
      "outputs": [],
      "source": []
    },
    {
      "cell_type": "markdown",
      "id": "8f9cecee-74bd-4cc1-bbe3-06bfc8c3a3f5",
      "metadata": {
        "id": "8f9cecee-74bd-4cc1-bbe3-06bfc8c3a3f5"
      },
      "source": [
        "Now I can go with the evolve method to see the circuit outcome. When we do it in this straight-foward way, we see that we get something like an array. But we can also get a prettier print with specifying that we want to use ‘latex’"
      ]
    },
    {
      "cell_type": "code",
      "execution_count": null,
      "id": "43792850-90d6-492c-8cde-761c8e35b32f",
      "metadata": {
        "id": "43792850-90d6-492c-8cde-761c8e35b32f"
      },
      "outputs": [],
      "source": []
    },
    {
      "cell_type": "code",
      "execution_count": null,
      "id": "f71a2567-6282-4a8d-8b53-c6f866fb5af0",
      "metadata": {
        "id": "f71a2567-6282-4a8d-8b53-c6f866fb5af0"
      },
      "outputs": [],
      "source": []
    },
    {
      "cell_type": "markdown",
      "id": "9e695e34-78af-48ff-8dea-89807a14ed58",
      "metadata": {
        "id": "9e695e34-78af-48ff-8dea-89807a14ed58"
      },
      "source": [
        "We've indeed created a product state, as we expected.\n",
        "\n",
        "**It’s important to note that here we’re not doing any experiments, ie. we’re not sampling from the circuit → we’re just doing deterministic math at the background to get an ideal state that'd be coming from a noiseless circuit and infinitely many shots**"
      ]
    },
    {
      "cell_type": "markdown",
      "id": "79b9f790-3cf1-412a-891f-f36c5ee43f6f",
      "metadata": {
        "id": "79b9f790-3cf1-412a-891f-f36c5ee43f6f"
      },
      "source": [
        "Now let’s create some entanglement. For this we can start with the Bell states. Of course, to entangle two qubits we need them to interact, meaning, we need a two qubit gate in the gate-model. A CNOT conditioned on the superposed qubit will do the job. Let’s do it from scratch. But this time, let’s also add the 2nd argument to the QuantumCircuit to see what we get."
      ]
    },
    {
      "cell_type": "code",
      "execution_count": null,
      "id": "e179a9ac-735a-44e8-88db-f254c0e50ecf",
      "metadata": {
        "id": "e179a9ac-735a-44e8-88db-f254c0e50ecf"
      },
      "outputs": [],
      "source": []
    },
    {
      "cell_type": "markdown",
      "id": "9a9c0013-bbf2-4eae-9d4e-bc8a3960e7c6",
      "metadata": {
        "id": "9a9c0013-bbf2-4eae-9d4e-bc8a3960e7c6"
      },
      "source": [
        "Printing this out, we now have a circuit with 2 qubits but also 2 classical registers. Thus, we see we don't have to explicitly define classical registers."
      ]
    },
    {
      "cell_type": "markdown",
      "id": "6a7b6c76-fe4d-48b4-9fa7-9c364c41a2c3",
      "metadata": {
        "id": "6a7b6c76-fe4d-48b4-9fa7-9c364c41a2c3"
      },
      "source": [
        "Let’s now read out the state from our circuit to check if we have created a Bell state. However, this time we’ll use a different method to define a Statevector object. We will use the from_int method. We simply tell it the computational state we want at the first argument, and for the second we give it the vector size ie. the dimension of the Hilbert space."
      ]
    },
    {
      "cell_type": "code",
      "execution_count": null,
      "id": "e46660fe-62e8-4a32-8c45-7f91a427d624",
      "metadata": {
        "id": "e46660fe-62e8-4a32-8c45-7f91a427d624"
      },
      "outputs": [],
      "source": []
    },
    {
      "cell_type": "markdown",
      "id": "c609c2a6-5a43-4b78-a97f-365add2fb8a1",
      "metadata": {
        "id": "c609c2a6-5a43-4b78-a97f-365add2fb8a1"
      },
      "source": [
        "This is the $\\Phi^+$ state. We can just use an additional single qubit phase gate to create $\\Phi^-$ now. Of course, the phase we want to apply is -1 which means that this phase gate is identical to the Z gate up to a global phase."
      ]
    },
    {
      "cell_type": "code",
      "execution_count": null,
      "id": "06900afe-0ee9-4990-ad62-b6d93c90baf5",
      "metadata": {
        "id": "06900afe-0ee9-4990-ad62-b6d93c90baf5"
      },
      "outputs": [],
      "source": []
    },
    {
      "cell_type": "code",
      "execution_count": null,
      "id": "1da11a70-61d7-4833-ba28-f0e01e42a49a",
      "metadata": {
        "id": "1da11a70-61d7-4833-ba28-f0e01e42a49a"
      },
      "outputs": [],
      "source": []
    },
    {
      "cell_type": "markdown",
      "id": "60d5f32b-1c4b-4580-bb8a-69d7a314de5d",
      "metadata": {
        "id": "60d5f32b-1c4b-4580-bb8a-69d7a314de5d"
      },
      "source": [
        "You can similarly create $\\Psi^+$ and $\\Psi^-$, then check with the statevector method. I highly encourage you to do it afterwards even if you find it easy."
      ]
    },
    {
      "cell_type": "markdown",
      "id": "58847a28-964c-4013-ae29-96c681b453c1",
      "metadata": {
        "id": "58847a28-964c-4013-ae29-96c681b453c1"
      },
      "source": [
        "For the next demonstration, let’s quickly also build a GHZ circuit."
      ]
    },
    {
      "cell_type": "code",
      "execution_count": null,
      "id": "eab9522c-b0b1-4a52-8807-d0d104dbd005",
      "metadata": {
        "id": "eab9522c-b0b1-4a52-8807-d0d104dbd005"
      },
      "outputs": [],
      "source": []
    },
    {
      "cell_type": "code",
      "execution_count": null,
      "id": "d7a969a3-d229-4136-9e5c-2fcb5ec5fac5",
      "metadata": {
        "id": "d7a969a3-d229-4136-9e5c-2fcb5ec5fac5"
      },
      "outputs": [],
      "source": []
    },
    {
      "cell_type": "markdown",
      "id": "460ffd1d-6d91-46b7-9fe7-08b502f5ec31",
      "metadata": {
        "id": "460ffd1d-6d91-46b7-9fe7-08b502f5ec31"
      },
      "source": [
        "So far we’ve called the evolved statevector with the draw method either specifying nothing or asking for a ‘latex’ print, but we can also do another thing. We can ask for a qsphere. Now a qsphere is just a representation of multi-qubit states on a Block-sphere like fashion. Here the size of the balls are proportional to the probability of the state and the color is related to the phase. In fact, the Qiskit logo is nothing but a QSphere!"
      ]
    },
    {
      "cell_type": "code",
      "execution_count": null,
      "id": "f87aea0a-12e3-4028-b6a7-72ef5164f304",
      "metadata": {
        "id": "f87aea0a-12e3-4028-b6a7-72ef5164f304"
      },
      "outputs": [],
      "source": []
    },
    {
      "cell_type": "markdown",
      "id": "c65f3d1a-3e11-46c4-a54e-d7174aa18b7a",
      "metadata": {
        "id": "c65f3d1a-3e11-46c4-a54e-d7174aa18b7a"
      },
      "source": [
        "We can also plot what’s called a hinton. This is useful for Density Matrices of mixed states. Hinton diagram represents values of a matrix using squares, the sizes indicate magnitudes and the color, their sign. \n",
        "\n",
        "- White -> positive\n",
        "- Black -> negative"
      ]
    },
    {
      "cell_type": "code",
      "execution_count": null,
      "id": "57e29006-51eb-4c47-80e9-438f3834bcbd",
      "metadata": {
        "id": "57e29006-51eb-4c47-80e9-438f3834bcbd"
      },
      "outputs": [],
      "source": []
    },
    {
      "cell_type": "markdown",
      "id": "48ccdfbd-3140-4bf3-af1a-21c1d77099b3",
      "metadata": {
        "id": "48ccdfbd-3140-4bf3-af1a-21c1d77099b3"
      },
      "source": [
        "Okay that was boring, what if we had a mixed state and a complicated Density Matrix? More on that later."
      ]
    },
    {
      "cell_type": "markdown",
      "id": "8b29f0ce-fc54-4ae2-8676-8fd25c5aa4b4",
      "metadata": {
        "id": "8b29f0ce-fc54-4ae2-8676-8fd25c5aa4b4"
      },
      "source": [
        "We’ve seen what we can do by directly calling a Statevector object. In fact, we can do something more fun, which is to do all that with simulation. For that, as you might imagine we need a simulator. We can check the available simulators in Qiskit."
      ]
    },
    {
      "cell_type": "code",
      "execution_count": null,
      "id": "b9c9707f-c95a-496a-8a95-269701665702",
      "metadata": {
        "id": "b9c9707f-c95a-496a-8a95-269701665702"
      },
      "outputs": [],
      "source": []
    },
    {
      "cell_type": "code",
      "execution_count": null,
      "id": "c89c051d-5a34-4524-825c-f74c4c15d613",
      "metadata": {
        "id": "c89c051d-5a34-4524-825c-f74c4c15d613"
      },
      "outputs": [],
      "source": []
    },
    {
      "cell_type": "markdown",
      "id": "2ae25861-7e86-4ed8-a0f6-d9fa156b8f8b",
      "metadata": {
        "id": "2ae25861-7e86-4ed8-a0f6-d9fa156b8f8b"
      },
      "source": [
        "We see we have a Statevector simulator, let’s define that as our backend. Let’s also define a job to run on our simulator."
      ]
    },
    {
      "cell_type": "code",
      "execution_count": null,
      "id": "c4a90479-f98f-4c40-829a-e5a26f1f9fd2",
      "metadata": {
        "id": "c4a90479-f98f-4c40-829a-e5a26f1f9fd2"
      },
      "outputs": [],
      "source": []
    },
    {
      "cell_type": "code",
      "execution_count": null,
      "id": "c630cec0-fbd4-423d-b4ff-555a5b315e41",
      "metadata": {
        "id": "c630cec0-fbd4-423d-b4ff-555a5b315e41"
      },
      "outputs": [],
      "source": []
    },
    {
      "cell_type": "markdown",
      "id": "1b7519b9-db16-4584-98cf-9fc765ab1504",
      "metadata": {
        "id": "1b7519b9-db16-4584-98cf-9fc765ab1504"
      },
      "source": [
        "Now, we could also employ another method which is not the run, but execute. Execute is generally used for actual simulation experiments where you do measurements to obtain statistics. Of course in that case, you would specify the number of shots too."
      ]
    },
    {
      "cell_type": "code",
      "execution_count": null,
      "id": "982269b3-49be-4ca0-a767-4e63b26ec77b",
      "metadata": {
        "id": "982269b3-49be-4ca0-a767-4e63b26ec77b"
      },
      "outputs": [],
      "source": []
    },
    {
      "cell_type": "code",
      "execution_count": null,
      "id": "edd63ceb-8953-4970-a098-8fa96f9dda77",
      "metadata": {
        "id": "edd63ceb-8953-4970-a098-8fa96f9dda77"
      },
      "outputs": [],
      "source": []
    },
    {
      "cell_type": "markdown",
      "id": "639411c0-f94e-4724-89a8-93a67a1815dc",
      "metadata": {
        "id": "639411c0-f94e-4724-89a8-93a67a1815dc"
      },
      "source": [
        "An important thing to note is the fact that the visualization methods for Statevectors coming from the sv Object and the sv Simulator are different. So far we've used things like .draw() directly on the Object. This is not the case for the Statevector coming from the Simulator. For these we call visualization functions directly. We could also call these for the Object, but we've used the direct methods to show the variability. I encourage you to try the following for Objects yourself. Let's now see these functions."
      ]
    },
    {
      "cell_type": "code",
      "execution_count": null,
      "id": "ee7a7609-0b64-48f9-af8b-5b84478717a9",
      "metadata": {
        "id": "ee7a7609-0b64-48f9-af8b-5b84478717a9"
      },
      "outputs": [],
      "source": []
    },
    {
      "cell_type": "code",
      "execution_count": null,
      "id": "f1be5af4-8f8e-40cb-a1cf-7980b8aa2605",
      "metadata": {
        "id": "f1be5af4-8f8e-40cb-a1cf-7980b8aa2605"
      },
      "outputs": [],
      "source": []
    },
    {
      "cell_type": "code",
      "execution_count": null,
      "id": "5cf63b08-51c3-4b54-9e7f-c3ec3b8a1f56",
      "metadata": {
        "id": "5cf63b08-51c3-4b54-9e7f-c3ec3b8a1f56"
      },
      "outputs": [],
      "source": []
    },
    {
      "cell_type": "code",
      "execution_count": null,
      "id": "deae1504-3295-4fd3-ac89-acfde849c11c",
      "metadata": {
        "id": "deae1504-3295-4fd3-ac89-acfde849c11c"
      },
      "outputs": [],
      "source": []
    },
    {
      "cell_type": "markdown",
      "id": "9f62b949-be4c-4b22-9a83-e60227280fe9",
      "metadata": {
        "id": "9f62b949-be4c-4b22-9a83-e60227280fe9"
      },
      "source": [
        "There's yet another visualization function that we can use with the simulators and that is the Bloch Sphere representation for individual qubits. Let us first try it on a new, simple circuit that gives a product state with no entanglement."
      ]
    },
    {
      "cell_type": "code",
      "execution_count": null,
      "id": "c3ec2038-7b7c-45a8-80eb-a713daf6fdb1",
      "metadata": {
        "id": "c3ec2038-7b7c-45a8-80eb-a713daf6fdb1"
      },
      "outputs": [],
      "source": []
    },
    {
      "cell_type": "code",
      "execution_count": null,
      "id": "1b4e34e8-89f3-46fa-9677-a42b6fb15213",
      "metadata": {
        "id": "1b4e34e8-89f3-46fa-9677-a42b6fb15213"
      },
      "outputs": [],
      "source": []
    },
    {
      "cell_type": "markdown",
      "id": "61966cc0-a9d2-4350-94e6-dce091b09526",
      "metadata": {
        "id": "61966cc0-a9d2-4350-94e6-dce091b09526"
      },
      "source": [
        "We have seen how it works for a product state, but what if there is entanglement? Moreover, what if the state is a mixed state? For this, we will look at the DensityMatrix object from the quantum_info module."
      ]
    },
    {
      "cell_type": "code",
      "execution_count": null,
      "id": "56f492a7-1772-48fc-84c6-19fd3513e55e",
      "metadata": {
        "id": "56f492a7-1772-48fc-84c6-19fd3513e55e"
      },
      "outputs": [],
      "source": []
    },
    {
      "cell_type": "code",
      "execution_count": null,
      "id": "fd94b24f-515d-4463-87d5-321bb909a729",
      "metadata": {
        "id": "fd94b24f-515d-4463-87d5-321bb909a729"
      },
      "outputs": [],
      "source": []
    },
    {
      "cell_type": "markdown",
      "id": "395bad7e-124d-4b92-9e15-8cc590e38e2c",
      "metadata": {
        "id": "395bad7e-124d-4b92-9e15-8cc590e38e2c"
      },
      "source": [
        "Now you might wonder, how this representation is actually being done. Simply put, each of the (x,y,z) coordinates are coming from expectation values of the single qubit X, Y, Z Pauli operators. So, for example for qubit 1, now on the left, we measure the operator {$I \\otimes X, I \\otimes Y, I \\otimes Z$} and get the expectation values."
      ]
    },
    {
      "cell_type": "markdown",
      "id": "033bf089-6c8e-46bd-a201-17b2477fc27b",
      "metadata": {
        "id": "033bf089-6c8e-46bd-a201-17b2477fc27b"
      },
      "source": [
        "Now this was a Bloch sphere representation for things coming out of a circuit. But there is also another function, not the multivector, but simply a plot_bloch_vector and this function takes as input not a circuit, but coordinates directly. "
      ]
    },
    {
      "cell_type": "code",
      "execution_count": null,
      "id": "e08964bc-79aa-42e4-9fdb-1ace7e1cea8b",
      "metadata": {
        "id": "e08964bc-79aa-42e4-9fdb-1ace7e1cea8b"
      },
      "outputs": [],
      "source": []
    },
    {
      "cell_type": "code",
      "execution_count": null,
      "id": "a3a0df10-d1c1-43df-af0a-9d142253181d",
      "metadata": {
        "id": "a3a0df10-d1c1-43df-af0a-9d142253181d"
      },
      "outputs": [],
      "source": []
    },
    {
      "cell_type": "markdown",
      "id": "8c76d316-4a7d-4933-bee0-0b4d6d00df05",
      "metadata": {
        "id": "8c76d316-4a7d-4933-bee0-0b4d6d00df05"
      },
      "source": [
        "Let's take a step back and refer back to what we said about getting interesting Hinton plots from Density Matrices."
      ]
    },
    {
      "cell_type": "code",
      "execution_count": null,
      "id": "867a101f-1d66-4e65-8e57-1e70a3f21e58",
      "metadata": {
        "id": "867a101f-1d66-4e65-8e57-1e70a3f21e58"
      },
      "outputs": [],
      "source": []
    },
    {
      "cell_type": "markdown",
      "id": "a84521bc-204a-408a-9c8c-eaf9f7a21858",
      "metadata": {
        "id": "a84521bc-204a-408a-9c8c-eaf9f7a21858"
      },
      "source": [
        "- Demonstration of Grokking the Bloch Sphere for single qubit operations"
      ]
    },
    {
      "cell_type": "markdown",
      "id": "85886d2e-d7bd-4aff-b604-f0964e3cbda2",
      "metadata": {
        "id": "85886d2e-d7bd-4aff-b604-f0964e3cbda2"
      },
      "source": [
        "Until now, we've been dealing with the states, rather than the circuits. But what if we actually wanted to learn more about the circuit itself, or we have a Unitary that we don't know the circuit representation of. Similar to the statevector, we can employ two methods and we'll show them both here."
      ]
    },
    {
      "cell_type": "markdown",
      "id": "3a9bdb4f-ddcb-4790-bc20-caee32398d3f",
      "metadata": {
        "id": "3a9bdb4f-ddcb-4790-bc20-caee32398d3f"
      },
      "source": [
        "For pedagogical accuracy, we will first use the Unitary object but then also use the Unitary Simulator."
      ]
    },
    {
      "cell_type": "code",
      "execution_count": null,
      "id": "f22ceacd-b82a-4881-9327-1a1b1fc72917",
      "metadata": {
        "id": "f22ceacd-b82a-4881-9327-1a1b1fc72917"
      },
      "outputs": [],
      "source": []
    },
    {
      "cell_type": "code",
      "execution_count": null,
      "id": "378883dd-4fd9-4d74-96c9-6deee83b4aec",
      "metadata": {
        "id": "378883dd-4fd9-4d74-96c9-6deee83b4aec"
      },
      "outputs": [],
      "source": []
    },
    {
      "cell_type": "code",
      "execution_count": null,
      "id": "22636a2a-7f02-411e-9644-72198a4454d1",
      "metadata": {
        "id": "22636a2a-7f02-411e-9644-72198a4454d1"
      },
      "outputs": [],
      "source": []
    },
    {
      "cell_type": "code",
      "execution_count": null,
      "id": "facd97cc-4c3f-4dc9-bd7d-7fe62bda2beb",
      "metadata": {
        "id": "facd97cc-4c3f-4dc9-bd7d-7fe62bda2beb"
      },
      "outputs": [],
      "source": []
    },
    {
      "cell_type": "markdown",
      "id": "2a05e5cf-9d4c-49fc-9a2f-bb0cd500569b",
      "metadata": {
        "id": "2a05e5cf-9d4c-49fc-9a2f-bb0cd500569b"
      },
      "source": [
        "Caution here, as this is the Unitary simulator, it only works with ideal gates and no noise."
      ]
    }
  ],
  "metadata": {
    "colab": {
      "provenance": []
    },
    "kernelspec": {
      "display_name": "Python 3.10.8 64-bit",
      "language": "python",
      "name": "python3"
    },
    "language_info": {
      "codemirror_mode": {
        "name": "ipython",
        "version": 3
      },
      "file_extension": ".py",
      "mimetype": "text/x-python",
      "name": "python",
      "nbconvert_exporter": "python",
      "pygments_lexer": "ipython3",
      "version": "3.10.8"
    },
    "vscode": {
      "interpreter": {
        "hash": "b0fa6594d8f4cbf19f97940f81e996739fb7646882a419484c72d19e05852a7e"
      }
    }
  },
  "nbformat": 4,
  "nbformat_minor": 5
}
