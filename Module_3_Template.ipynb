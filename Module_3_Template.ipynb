{
  "cells": [
    {
      "cell_type": "markdown",
      "id": "2954dc96-bef5-4323-a6c0-bca62bb70d12",
      "metadata": {
        "id": "2954dc96-bef5-4323-a6c0-bca62bb70d12"
      },
      "source": [
        "# Contents\n",
        "\n",
        "### Module 3\n",
        "- Advanced Circuit Visualizations\n",
        "- QASM Export/Import\n",
        "- Circuit Depth\n",
        "- Qiskit Version\n",
        "- Backend Overview & Gate/Error Maps\n",
        "- Coupling Maps\n",
        "- Example Exam Questions"
      ]
    },
    {
      "cell_type": "code",
      "execution_count": null,
      "id": "6bd42d1b-a17d-4274-a718-8a194c049344",
      "metadata": {
        "id": "6bd42d1b-a17d-4274-a718-8a194c049344",
        "outputId": "1910ee70-cef0-4081-a0bf-995decdba6ec"
      },
      "outputs": [
        {
          "name": "stderr",
          "output_type": "stream",
          "text": [
            "ibmqfactory.load_account:WARNING:2022-11-03 13:41:11,565: Credentials are already in use. The existing account in the session will be replaced.\n"
          ]
        }
      ],
      "source": [
        "import numpy as np\n",
        "\n",
        "# Importing standard Qiskit libraries\n",
        "from qiskit import *\n",
        "from qiskit.tools.jupyter import *\n",
        "from qiskit.visualization import *\n",
        "from ibm_quantum_widgets import *\n",
        "from qiskit.providers.aer import QasmSimulator\n",
        "\n",
        "# Loading your IBM Quantum account(s)\n",
        "provider = IBMQ.load_account()"
      ]
    },
    {
      "cell_type": "markdown",
      "id": "990294cf-47ab-473e-9721-35f7f5b6c217",
      "metadata": {
        "id": "990294cf-47ab-473e-9721-35f7f5b6c217"
      },
      "source": [
        "### Advanced Circuit Visualization\n",
        "\n",
        "Let's start with defining a rather big circuit. We will play around with visualization on this."
      ]
    },
    {
      "cell_type": "code",
      "execution_count": null,
      "id": "53ff178a-52fa-42cb-a498-6f1bb8cfc9fe",
      "metadata": {
        "id": "53ff178a-52fa-42cb-a498-6f1bb8cfc9fe"
      },
      "outputs": [],
      "source": []
    },
    {
      "cell_type": "markdown",
      "id": "65f10de4-1d9d-49e5-baeb-fe3089485083",
      "metadata": {
        "id": "65f10de4-1d9d-49e5-baeb-fe3089485083"
      },
      "source": [
        "Now that we have the circuit rolling, let's see 4 nice parameters we can use to manipulate our circuit graphics."
      ]
    },
    {
      "cell_type": "code",
      "execution_count": null,
      "id": "c8623f9c-4c35-419a-8b7d-9dd5599b2c92",
      "metadata": {
        "id": "c8623f9c-4c35-419a-8b7d-9dd5599b2c92"
      },
      "outputs": [],
      "source": []
    },
    {
      "cell_type": "markdown",
      "id": "638234c5-7e38-493c-ba81-669791d2c74f",
      "metadata": {
        "id": "638234c5-7e38-493c-ba81-669791d2c74f"
      },
      "source": [
        "It's also just good to keep at the back of your mind that there's actually a direct circuit drawer function instead of using the .draw() on the circuit."
      ]
    },
    {
      "cell_type": "code",
      "execution_count": null,
      "id": "3732b3b4-e002-472c-8d3a-95200199632a",
      "metadata": {
        "id": "3732b3b4-e002-472c-8d3a-95200199632a"
      },
      "outputs": [],
      "source": []
    },
    {
      "cell_type": "markdown",
      "id": "3e2ce3e5-a29e-4608-b53c-97978bc5b271",
      "metadata": {
        "id": "3e2ce3e5-a29e-4608-b53c-97978bc5b271"
      },
      "source": [
        "### QASM Export/Import\n",
        "\n",
        "We've done a lot of simulating with QASM in Module 2. Let's now see how we can export to and import from QASM files. This is useful for projects which utilize coding in multiple Quantum SDKs, so that everyone can universally share circuits they have created in one standard form, that is QASM. Let's demonstrate how we can achieve this within Qiskit by creating a GHZ circuit."
      ]
    },
    {
      "cell_type": "code",
      "execution_count": null,
      "id": "a73195b6-3856-4e33-90e4-9dfbffea1f6e",
      "metadata": {
        "id": "a73195b6-3856-4e33-90e4-9dfbffea1f6e"
      },
      "outputs": [],
      "source": []
    },
    {
      "cell_type": "markdown",
      "id": "cba51c6d-b890-44a5-82ca-42c293b6c174",
      "metadata": {
        "id": "cba51c6d-b890-44a5-82ca-42c293b6c174"
      },
      "source": [
        "Now that we have our circuit, all we have to do is use .qasm() on it to create a QASM string. As easy as that!"
      ]
    },
    {
      "cell_type": "code",
      "execution_count": null,
      "id": "a9ad9f77-e559-4872-a832-3062a940a5de",
      "metadata": {
        "id": "a9ad9f77-e559-4872-a832-3062a940a5de"
      },
      "outputs": [],
      "source": []
    },
    {
      "cell_type": "markdown",
      "id": "72bb063d-a583-45c2-ad74-aa01ce409078",
      "metadata": {
        "id": "72bb063d-a583-45c2-ad74-aa01ce409078"
      },
      "source": [
        "Voila! We now have a QASM string that can be directly used. Let's also import it to double-check it worked."
      ]
    },
    {
      "cell_type": "code",
      "execution_count": null,
      "id": "c178324a-e4e4-4627-930f-495fd4e5b614",
      "metadata": {
        "id": "c178324a-e4e4-4627-930f-495fd4e5b614"
      },
      "outputs": [],
      "source": []
    },
    {
      "cell_type": "markdown",
      "id": "0b1862c8-495a-47dc-9f44-5820a8245d19",
      "metadata": {
        "id": "0b1862c8-495a-47dc-9f44-5820a8245d19"
      },
      "source": [
        "It indeed works correctly."
      ]
    },
    {
      "cell_type": "markdown",
      "id": "cba659cc-751a-4322-98d3-1abe25a2034b",
      "metadata": {
        "id": "cba659cc-751a-4322-98d3-1abe25a2034b"
      },
      "source": [
        "### Circuit Depth\n",
        "\n",
        "We will now see how to obtain depth of a circuit and how a barrier changes things."
      ]
    },
    {
      "cell_type": "code",
      "execution_count": null,
      "id": "853c9c35-40ae-409c-a36f-77e25ccc0713",
      "metadata": {
        "id": "853c9c35-40ae-409c-a36f-77e25ccc0713"
      },
      "outputs": [],
      "source": []
    },
    {
      "cell_type": "markdown",
      "id": "40646d73-0383-4642-8507-a29187747e53",
      "metadata": {
        "id": "40646d73-0383-4642-8507-a29187747e53"
      },
      "source": [
        "We can directly call the .depth() method to print out the depth of this circuit."
      ]
    },
    {
      "cell_type": "code",
      "execution_count": null,
      "id": "dafbc019-0cc3-4f73-9c73-d54ed678673c",
      "metadata": {
        "id": "dafbc019-0cc3-4f73-9c73-d54ed678673c"
      },
      "outputs": [],
      "source": []
    },
    {
      "cell_type": "markdown",
      "id": "5c0dada0-b556-4e02-98d0-79e00f13838a",
      "metadata": {
        "id": "5c0dada0-b556-4e02-98d0-79e00f13838a"
      },
      "source": [
        "As expected, the depth is 1. Let's now add a barrier to the middle of the circuit and see what happens."
      ]
    },
    {
      "cell_type": "code",
      "execution_count": null,
      "id": "eddb6e63-be13-4aa1-978e-d614fe0327c9",
      "metadata": {
        "tags": [],
        "id": "eddb6e63-be13-4aa1-978e-d614fe0327c9"
      },
      "outputs": [],
      "source": []
    },
    {
      "cell_type": "code",
      "execution_count": null,
      "id": "da554b5f-7ba1-4ecc-8315-40e2521f5faa",
      "metadata": {
        "id": "da554b5f-7ba1-4ecc-8315-40e2521f5faa"
      },
      "outputs": [],
      "source": []
    },
    {
      "cell_type": "markdown",
      "id": "78d5b971-8a71-4dbe-ba2f-09cb71390f4f",
      "metadata": {
        "id": "78d5b971-8a71-4dbe-ba2f-09cb71390f4f"
      },
      "source": [
        "This is a direct demonstration of what we've talked in Module 2 about Barriers. The barrier not only acts as a visual seperator to keep your circuits looking clean, but also a directive for the backends to execute the circuit in batches. Since we have a barrier mid-circuit here, we created 2 batches and the circuit depth has become 2."
      ]
    },
    {
      "cell_type": "markdown",
      "id": "56afeb19-68ff-49ee-b36a-334a63e6832e",
      "metadata": {
        "id": "56afeb19-68ff-49ee-b36a-334a63e6832e"
      },
      "source": [
        "### Qiskit Version\n",
        "\n",
        "Are you having problems with some packages you're using along with Qiskit? Are you getting weird error messages?\n",
        "First thing to check is your Qiskit version in such a case. It's very simple."
      ]
    },
    {
      "cell_type": "code",
      "execution_count": null,
      "id": "3cdeb0a0-df51-4d54-ba39-abc4a39a5d57",
      "metadata": {
        "id": "3cdeb0a0-df51-4d54-ba39-abc4a39a5d57"
      },
      "outputs": [],
      "source": []
    },
    {
      "cell_type": "markdown",
      "id": "0cb60972-30ca-4703-ba33-e4574ad9d753",
      "metadata": {
        "id": "0cb60972-30ca-4703-ba33-e4574ad9d753"
      },
      "source": [
        "### Backend Overview & Gate/Error Maps\n",
        "\n",
        "We've seen before that we can simply go to our Dashboard and check which machines are available to us.\n",
        "Now let's see a more conveninent way of checking which machines are available to us directly from our notebook environment."
      ]
    },
    {
      "cell_type": "code",
      "execution_count": null,
      "id": "91475d17-6883-4807-82b6-30fea367e088",
      "metadata": {
        "id": "91475d17-6883-4807-82b6-30fea367e088"
      },
      "outputs": [],
      "source": []
    },
    {
      "cell_type": "markdown",
      "id": "cfcd0943-2869-4f5e-ba3b-5f39e6569f0d",
      "metadata": {
        "id": "cfcd0943-2869-4f5e-ba3b-5f39e6569f0d"
      },
      "source": [
        "That already gives us a good overview, but what if we required more specific information about the couplings within the chip and their specific specs. Error rates depend very much on fabrication, and even within the same chip we can have different two qubit gate error rates between different qubits. When running experiments on real devices, it's always good practice to get as much information about the chip you will be using and use the two qubits with lowest error rates if it's possible.\n",
        "\n",
        "First of all, let's print out a specific chip we'd like to use."
      ]
    },
    {
      "cell_type": "code",
      "execution_count": null,
      "id": "e437bc72-4efb-45fb-bab9-c9dfbe6f536a",
      "metadata": {
        "id": "e437bc72-4efb-45fb-bab9-c9dfbe6f536a"
      },
      "outputs": [],
      "source": []
    },
    {
      "cell_type": "markdown",
      "id": "56fd910b-f0ea-4840-b729-db54a56cbeb7",
      "metadata": {
        "id": "56fd910b-f0ea-4840-b729-db54a56cbeb7"
      },
      "source": [
        "Then, let's obtain the error information."
      ]
    },
    {
      "cell_type": "code",
      "execution_count": null,
      "id": "e11d3aac-e400-4999-8a25-d27936bcda2b",
      "metadata": {
        "id": "e11d3aac-e400-4999-8a25-d27936bcda2b"
      },
      "outputs": [],
      "source": []
    },
    {
      "cell_type": "markdown",
      "id": "ff8320f6-cbc2-49d9-98b5-b72eba600326",
      "metadata": {
        "id": "ff8320f6-cbc2-49d9-98b5-b72eba600326"
      },
      "source": [
        "### Coupling Maps\n",
        "\n",
        "Another interesting concept within Qiskit is to explicitly define a coupling map for running a simulation. It is usually used to model the hardware constraints, however we can demonstrate it on the QASM simulator and tell it what kind of a chip emulation we want. For example let's have a 3 qubit code with a linear chain of qubits. This is"
      ]
    },
    {
      "cell_type": "code",
      "execution_count": null,
      "id": "86b59feb-bc1c-4469-9fa1-0349ce4ebd50",
      "metadata": {
        "id": "86b59feb-bc1c-4469-9fa1-0349ce4ebd50"
      },
      "outputs": [],
      "source": []
    },
    {
      "cell_type": "code",
      "execution_count": null,
      "id": "9fb69d8f-1cc8-4970-828f-628368ff3f79",
      "metadata": {
        "id": "9fb69d8f-1cc8-4970-828f-628368ff3f79"
      },
      "outputs": [],
      "source": []
    },
    {
      "cell_type": "markdown",
      "id": "d7c819d2-f808-4492-9cc8-cb6c14474eac",
      "metadata": {
        "id": "d7c819d2-f808-4492-9cc8-cb6c14474eac"
      },
      "source": [
        "That's it! Let's now do a recap of everything and take a look at some of the sample exam questions :)"
      ]
    }
  ],
  "metadata": {
    "kernelspec": {
      "display_name": "Python 3 (ipykernel)",
      "language": "python",
      "name": "python3"
    },
    "language_info": {
      "codemirror_mode": {
        "name": "ipython",
        "version": 3
      },
      "file_extension": ".py",
      "mimetype": "text/x-python",
      "name": "python",
      "nbconvert_exporter": "python",
      "pygments_lexer": "ipython3",
      "version": "3.8.13"
    },
    "colab": {
      "provenance": []
    }
  },
  "nbformat": 4,
  "nbformat_minor": 5
}