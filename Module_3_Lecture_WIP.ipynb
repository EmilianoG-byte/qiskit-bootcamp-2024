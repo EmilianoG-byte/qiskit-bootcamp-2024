{
  "cells": [
    {
      "cell_type": "markdown",
      "id": "2954dc96-bef5-4323-a6c0-bca62bb70d12",
      "metadata": {
        "id": "2954dc96-bef5-4323-a6c0-bca62bb70d12"
      },
      "source": [
        "# Contents\n",
        "\n",
        "### Module 3\n",
        "- Advanced Circuit Visualizations\n",
        "- QASM Export/Import\n",
        "- Circuit Depth\n",
        "- Qiskit Version\n",
        "- Backend Overview & Gate/Error Maps\n",
        "- Coupling Maps\n",
        "- Example Exam Questions"
      ]
    },
    {
      "cell_type": "code",
      "execution_count": 3,
      "id": "LbTFo7eNS2Fx",
      "metadata": {
        "colab": {
          "base_uri": "https://localhost:8080/"
        },
        "id": "LbTFo7eNS2Fx",
        "outputId": "31a3cc74-ca60-4ccb-cc43-3854d5befe4b"
      },
      "outputs": [],
      "source": [
        "# pip install qiskit\n",
        "# pip install qiskit-ibm-runtime\n"
      ]
    },
    {
      "cell_type": "code",
      "execution_count": 1,
      "id": "6bd42d1b-a17d-4274-a718-8a194c049344",
      "metadata": {
        "colab": {
          "base_uri": "https://localhost:8080/",
          "height": 176
        },
        "id": "6bd42d1b-a17d-4274-a718-8a194c049344",
        "outputId": "946a7c56-0876-4a09-f7e4-4d455007e519"
      },
      "outputs": [],
      "source": [
        "import numpy as np\n",
        "\n",
        "# Importing standard Qiskit libraries\n",
        "# from qiskit import *\n",
        "# from qiskit.visualization import *\n",
        "\n",
        "# We use a backend, but you can also use an IBM account instead.\n",
        "\n",
        "# Loading your IBM Quantum account(s)\n",
        "# provider = IBMQ.load_account()"
      ]
    },
    {
      "cell_type": "markdown",
      "id": "990294cf-47ab-473e-9721-35f7f5b6c217",
      "metadata": {
        "id": "990294cf-47ab-473e-9721-35f7f5b6c217"
      },
      "source": [
        "### Advanced Circuit Visualization\n",
        "\n",
        "Let's start with defining and visualizing a rather big circuit."
      ]
    },
    {
      "cell_type": "code",
      "execution_count": 1,
      "id": "53ff178a-52fa-42cb-a498-6f1bb8cfc9fe",
      "metadata": {
        "colab": {
          "base_uri": "https://localhost:8080/",
          "height": 279
        },
        "id": "53ff178a-52fa-42cb-a498-6f1bb8cfc9fe",
        "outputId": "3497d7c8-6c1a-4a26-845c-32b1e3c5ed77"
      },
      "outputs": [
        {
          "data": {
            "text/html": [
              "<pre style=\"word-wrap: normal;white-space: pre;background: #fff0;line-height: 1.1;font-family: &quot;Courier New&quot;,Courier,monospace\">       ┌───┐      ░                 ░            ░ ┌─┐               \n",
              "q_a_0: ┤ X ├──■───░───■────■────────░────────■───░─┤M├───────────────\n",
              "       ├───┤┌─┴─┐ ░   │    │        ░        │   ░ └╥┘┌─┐            \n",
              "q_a_1: ┤ H ├┤ X ├─░───■────┼────────░────────┼───░──╫─┤M├────────────\n",
              "       └───┘└───┘ ░        │        ░        │   ░  ║ └╥┘┌─┐         \n",
              "q_b_0: ───────────░────────┼────────░────────┼───░──╫──╫─┤M├─────────\n",
              "                  ░ ┌───┐  │        ░ ┌───┐  │   ░  ║  ║ └╥┘┌─┐      \n",
              "q_b_1: ───────────░─┤ H ├──┼────────░─┤ X ├──■───░──╫──╫──╫─┤M├──────\n",
              "                  ░ └───┘┌─┴─┐┌───┐ ░ └───┘  │   ░  ║  ║  ║ └╥┘┌─┐   \n",
              "q_b_2: ───────────░──────┤ X ├┤ H ├─░────────┼───░──╫──╫──╫──╫─┤M├───\n",
              "                  ░      └───┘└───┘ ░      ┌─┴─┐ ░  ║  ║  ║  ║ └╥┘┌─┐\n",
              "q_b_3: ───────────░─────────────────░──────┤ X ├─░──╫──╫──╫──╫──╫─┤M├\n",
              "                  ░                 ░      └───┘ ░  ║  ║  ║  ║  ║ └╥┘\n",
              "c_a: 2/═════════════════════════════════════════════╩══╩══╬══╬══╬══╬═\n",
              "                                                    0  1  ║  ║  ║  ║ \n",
              "c_b: 4/═══════════════════════════════════════════════════╩══╩══╩══╩═\n",
              "                                                          0  1  2  3 </pre>"
            ],
            "text/plain": [
              "       ┌───┐      ░                 ░            ░ ┌─┐               \n",
              "q_a_0: ┤ X ├──■───░───■────■────────░────────■───░─┤M├───────────────\n",
              "       ├───┤┌─┴─┐ ░   │    │        ░        │   ░ └╥┘┌─┐            \n",
              "q_a_1: ┤ H ├┤ X ├─░───■────┼────────░────────┼───░──╫─┤M├────────────\n",
              "       └───┘└───┘ ░        │        ░        │   ░  ║ └╥┘┌─┐         \n",
              "q_b_0: ───────────░────────┼────────░────────┼───░──╫──╫─┤M├─────────\n",
              "                  ░ ┌───┐  │        ░ ┌───┐  │   ░  ║  ║ └╥┘┌─┐      \n",
              "q_b_1: ───────────░─┤ H ├──┼────────░─┤ X ├──■───░──╫──╫──╫─┤M├──────\n",
              "                  ░ └───┘┌─┴─┐┌───┐ ░ └───┘  │   ░  ║  ║  ║ └╥┘┌─┐   \n",
              "q_b_2: ───────────░──────┤ X ├┤ H ├─░────────┼───░──╫──╫──╫──╫─┤M├───\n",
              "                  ░      └───┘└───┘ ░      ┌─┴─┐ ░  ║  ║  ║  ║ └╥┘┌─┐\n",
              "q_b_3: ───────────░─────────────────░──────┤ X ├─░──╫──╫──╫──╫──╫─┤M├\n",
              "                  ░                 ░      └───┘ ░  ║  ║  ║  ║  ║ └╥┘\n",
              "c_a: 2/═════════════════════════════════════════════╩══╩══╬══╬══╬══╬═\n",
              "                                                    0  1  ║  ║  ║  ║ \n",
              "c_b: 4/═══════════════════════════════════════════════════╩══╩══╩══╩═\n",
              "                                                          0  1  2  3 "
            ]
          },
          "execution_count": 1,
          "metadata": {},
          "output_type": "execute_result"
        }
      ],
      "source": [
        "from qiskit import QuantumRegister, ClassicalRegister, QuantumCircuit\n",
        "\n",
        "q_a = QuantumRegister(2, 'q_a')\n",
        "q_b = QuantumRegister(4, 'q_b')\n",
        "c_a = ClassicalRegister(2, 'c_a')\n",
        "c_b = ClassicalRegister(4, 'c_b')\n",
        "\n",
        "qc = QuantumCircuit(q_a, q_b, c_a, c_b)\n",
        "\n",
        "qc.x(0)\n",
        "qc.h(1)\n",
        "qc.cx(0,1)\n",
        "qc.barrier()\n",
        "qc.cz(0,1)\n",
        "qc.cx(0,4)\n",
        "qc.h(3)\n",
        "qc.h(4)\n",
        "qc.barrier()\n",
        "qc.x(3)\n",
        "qc.ccx(0,3,5)\n",
        "qc.barrier()\n",
        "qc.measure(q_a, c_a)\n",
        "qc.measure(q_b, c_b)\n",
        "qc.draw()"
      ]
    },
    {
      "cell_type": "markdown",
      "id": "65f10de4-1d9d-49e5-baeb-fe3089485083",
      "metadata": {
        "id": "65f10de4-1d9d-49e5-baeb-fe3089485083"
      },
      "source": [
        "Now that we have a circuit, let's explore 4 nice parameters we can use to modify our circuit graphics."
      ]
    },
    {
      "cell_type": "code",
      "execution_count": 4,
      "id": "c8623f9c-4c35-419a-8b7d-9dd5599b2c92",
      "metadata": {
        "colab": {
          "base_uri": "https://localhost:8080/",
          "height": 279
        },
        "id": "c8623f9c-4c35-419a-8b7d-9dd5599b2c92",
        "outputId": "90b3d257-75f5-42aa-817e-ee2f38abd390"
      },
      "outputs": [
        {
          "data": {
            "text/html": [
              "<pre style=\"word-wrap: normal;white-space: pre;background: #fff0;line-height: 1.1;font-family: &quot;Courier New&quot;,Courier,monospace\">                                       ┌───┐                ┌─┐\n",
              "q_b_3: ────────────────────────────────┤ X ├────────────────┤M├\n",
              "                       ┌───┐┌───┐      └─┬─┘             ┌─┐└╥┘\n",
              "q_b_2: ────────────────┤ X ├┤ H ├────────┼───────────────┤M├─╫─\n",
              "                  ┌───┐└─┬─┘└───┘ ┌───┐  │            ┌─┐└╥┘ ║ \n",
              "q_b_1: ───────────┤ H ├──┼────────┤ X ├──■────────────┤M├─╫──╫─\n",
              "                  └───┘  │        └───┘  │         ┌─┐└╥┘ ║  ║ \n",
              "q_b_0: ──────────────────┼───────────────┼─────────┤M├─╫──╫──╫─\n",
              "       ┌───┐┌───┐        │               │      ┌─┐└╥┘ ║  ║  ║ \n",
              "q_a_1: ┤ H ├┤ X ├───■────┼───────────────┼──────┤M├─╫──╫──╫──╫─\n",
              "       ├───┤└─┬─┘   │    │               │   ┌─┐└╥┘ ║  ║  ║  ║ \n",
              "q_a_0: ┤ X ├──■─────■────■───────────────■───┤M├─╫──╫──╫──╫──╫─\n",
              "       └───┘                                 └╥┘ ║  ║  ║  ║  ║ \n",
              "c_b: 4/═══════════════════════════════════════╬══╬══╩══╩══╩══╩═\n",
              "                                              ║  ║  0  1  2  3 \n",
              "c_a: 2/═══════════════════════════════════════╩══╩═════════════\n",
              "                                              0  1             </pre>"
            ],
            "text/plain": [
              "                                       ┌───┐                ┌─┐\n",
              "q_b_3: ────────────────────────────────┤ X ├────────────────┤M├\n",
              "                       ┌───┐┌───┐      └─┬─┘             ┌─┐└╥┘\n",
              "q_b_2: ────────────────┤ X ├┤ H ├────────┼───────────────┤M├─╫─\n",
              "                  ┌───┐└─┬─┘└───┘ ┌───┐  │            ┌─┐└╥┘ ║ \n",
              "q_b_1: ───────────┤ H ├──┼────────┤ X ├──■────────────┤M├─╫──╫─\n",
              "                  └───┘  │        └───┘  │         ┌─┐└╥┘ ║  ║ \n",
              "q_b_0: ──────────────────┼───────────────┼─────────┤M├─╫──╫──╫─\n",
              "       ┌───┐┌───┐        │               │      ┌─┐└╥┘ ║  ║  ║ \n",
              "q_a_1: ┤ H ├┤ X ├───■────┼───────────────┼──────┤M├─╫──╫──╫──╫─\n",
              "       ├───┤└─┬─┘   │    │               │   ┌─┐└╥┘ ║  ║  ║  ║ \n",
              "q_a_0: ┤ X ├──■─────■────■───────────────■───┤M├─╫──╫──╫──╫──╫─\n",
              "       └───┘                                 └╥┘ ║  ║  ║  ║  ║ \n",
              "c_b: 4/═══════════════════════════════════════╬══╬══╩══╩══╩══╩═\n",
              "                                              ║  ║  0  1  2  3 \n",
              "c_a: 2/═══════════════════════════════════════╩══╩═════════════\n",
              "                                              0  1             "
            ]
          },
          "execution_count": 4,
          "metadata": {},
          "output_type": "execute_result"
        }
      ],
      "source": [
        "qc.draw(reverse_bits=True, plot_barriers=False, scale=0.5, style = {'backgroundcolor' : 'gray'})"
      ]
    },
    {
      "cell_type": "markdown",
      "id": "638234c5-7e38-493c-ba81-669791d2c74f",
      "metadata": {
        "id": "638234c5-7e38-493c-ba81-669791d2c74f"
      },
      "source": [
        "It's also just good to remember that there's actually a direct circuit drawer function instead of using the .draw() on the circuit."
      ]
    },
    {
      "cell_type": "code",
      "execution_count": 5,
      "id": "3732b3b4-e002-472c-8d3a-95200199632a",
      "metadata": {
        "colab": {
          "base_uri": "https://localhost:8080/",
          "height": 279
        },
        "id": "3732b3b4-e002-472c-8d3a-95200199632a",
        "outputId": "39cfd18b-8076-438c-b57d-bd99e8e89c04"
      },
      "outputs": [
        {
          "data": {
            "text/html": [
              "<pre style=\"word-wrap: normal;white-space: pre;background: #fff0;line-height: 1.1;font-family: &quot;Courier New&quot;,Courier,monospace\">       ┌───┐      ░                 ░            ░ ┌─┐               \n",
              "q_a_0: ┤ X ├──■───░───■────■────────░────────■───░─┤M├───────────────\n",
              "       ├───┤┌─┴─┐ ░   │    │        ░        │   ░ └╥┘┌─┐            \n",
              "q_a_1: ┤ H ├┤ X ├─░───■────┼────────░────────┼───░──╫─┤M├────────────\n",
              "       └───┘└───┘ ░        │        ░        │   ░  ║ └╥┘┌─┐         \n",
              "q_b_0: ───────────░────────┼────────░────────┼───░──╫──╫─┤M├─────────\n",
              "                  ░ ┌───┐  │        ░ ┌───┐  │   ░  ║  ║ └╥┘┌─┐      \n",
              "q_b_1: ───────────░─┤ H ├──┼────────░─┤ X ├──■───░──╫──╫──╫─┤M├──────\n",
              "                  ░ └───┘┌─┴─┐┌───┐ ░ └───┘  │   ░  ║  ║  ║ └╥┘┌─┐   \n",
              "q_b_2: ───────────░──────┤ X ├┤ H ├─░────────┼───░──╫──╫──╫──╫─┤M├───\n",
              "                  ░      └───┘└───┘ ░      ┌─┴─┐ ░  ║  ║  ║  ║ └╥┘┌─┐\n",
              "q_b_3: ───────────░─────────────────░──────┤ X ├─░──╫──╫──╫──╫──╫─┤M├\n",
              "                  ░                 ░      └───┘ ░  ║  ║  ║  ║  ║ └╥┘\n",
              "c_a: 2/═════════════════════════════════════════════╩══╩══╬══╬══╬══╬═\n",
              "                                                    0  1  ║  ║  ║  ║ \n",
              "c_b: 4/═══════════════════════════════════════════════════╩══╩══╩══╩═\n",
              "                                                          0  1  2  3 </pre>"
            ],
            "text/plain": [
              "       ┌───┐      ░                 ░            ░ ┌─┐               \n",
              "q_a_0: ┤ X ├──■───░───■────■────────░────────■───░─┤M├───────────────\n",
              "       ├───┤┌─┴─┐ ░   │    │        ░        │   ░ └╥┘┌─┐            \n",
              "q_a_1: ┤ H ├┤ X ├─░───■────┼────────░────────┼───░──╫─┤M├────────────\n",
              "       └───┘└───┘ ░        │        ░        │   ░  ║ └╥┘┌─┐         \n",
              "q_b_0: ───────────░────────┼────────░────────┼───░──╫──╫─┤M├─────────\n",
              "                  ░ ┌───┐  │        ░ ┌───┐  │   ░  ║  ║ └╥┘┌─┐      \n",
              "q_b_1: ───────────░─┤ H ├──┼────────░─┤ X ├──■───░──╫──╫──╫─┤M├──────\n",
              "                  ░ └───┘┌─┴─┐┌───┐ ░ └───┘  │   ░  ║  ║  ║ └╥┘┌─┐   \n",
              "q_b_2: ───────────░──────┤ X ├┤ H ├─░────────┼───░──╫──╫──╫──╫─┤M├───\n",
              "                  ░      └───┘└───┘ ░      ┌─┴─┐ ░  ║  ║  ║  ║ └╥┘┌─┐\n",
              "q_b_3: ───────────░─────────────────░──────┤ X ├─░──╫──╫──╫──╫──╫─┤M├\n",
              "                  ░                 ░      └───┘ ░  ║  ║  ║  ║  ║ └╥┘\n",
              "c_a: 2/═════════════════════════════════════════════╩══╩══╬══╬══╬══╬═\n",
              "                                                    0  1  ║  ║  ║  ║ \n",
              "c_b: 4/═══════════════════════════════════════════════════╩══╩══╩══╩═\n",
              "                                                          0  1  2  3 "
            ]
          },
          "execution_count": 5,
          "metadata": {},
          "output_type": "execute_result"
        }
      ],
      "source": [
        "from qiskit.visualization import circuit_drawer\n",
        "\n",
        "circuit_drawer(qc, output='text')"
      ]
    },
    {
      "cell_type": "markdown",
      "id": "3e2ce3e5-a29e-4608-b53c-97978bc5b271",
      "metadata": {
        "id": "3e2ce3e5-a29e-4608-b53c-97978bc5b271"
      },
      "source": [
        "### QASM Export/Import\n",
        "\n",
        "We've done a lot of simulating with QASM in Module 2. Let's now see how we can export to and import from QASM files. This is useful for projects that use coding in multiple Quantum SDKs, so that everyone can share circuits they have created in one standard form, which is QASM. Let's demonstrate how we can achieve this within Qiskit by creating a GHZ circuit."
      ]
    },
    {
      "cell_type": "code",
      "execution_count": 2,
      "id": "a73195b6-3856-4e33-90e4-9dfbffea1f6e",
      "metadata": {
        "colab": {
          "base_uri": "https://localhost:8080/",
          "height": 156
        },
        "id": "a73195b6-3856-4e33-90e4-9dfbffea1f6e",
        "outputId": "f6862bbb-76c3-4b42-b395-c14b044f7610"
      },
      "outputs": [
        {
          "data": {
            "text/html": [
              "<pre style=\"word-wrap: normal;white-space: pre;background: #fff0;line-height: 1.1;font-family: &quot;Courier New&quot;,Courier,monospace\">     ┌───┐           ░ ┌─┐      \n",
              "q_0: ┤ H ├──■────■───░─┤M├──────\n",
              "     └───┘┌─┴─┐  │   ░ └╥┘┌─┐   \n",
              "q_1: ─────┤ X ├──┼───░──╫─┤M├───\n",
              "          └───┘┌─┴─┐ ░  ║ └╥┘┌─┐\n",
              "q_2: ──────────┤ X ├─░──╫──╫─┤M├\n",
              "               └───┘ ░  ║  ║ └╥┘\n",
              "c: 3/═══════════════════╩══╩══╩═\n",
              "                        0  1  2 </pre>"
            ],
            "text/plain": [
              "     ┌───┐           ░ ┌─┐      \n",
              "q_0: ┤ H ├──■────■───░─┤M├──────\n",
              "     └───┘┌─┴─┐  │   ░ └╥┘┌─┐   \n",
              "q_1: ─────┤ X ├──┼───░──╫─┤M├───\n",
              "          └───┘┌─┴─┐ ░  ║ └╥┘┌─┐\n",
              "q_2: ──────────┤ X ├─░──╫──╫─┤M├\n",
              "               └───┘ ░  ║  ║ └╥┘\n",
              "c: 3/═══════════════════╩══╩══╩═\n",
              "                        0  1  2 "
            ]
          },
          "execution_count": 2,
          "metadata": {},
          "output_type": "execute_result"
        }
      ],
      "source": [
        "qc = QuantumCircuit(3,3)\n",
        "qc.h(0)\n",
        "qc.cx(0,1)\n",
        "qc.cx(0,2)\n",
        "qc.barrier()\n",
        "qc.measure([0,1,2], [0,1,2])\n",
        "qc.draw()"
      ]
    },
    {
      "cell_type": "markdown",
      "id": "cba51c6d-b890-44a5-82ca-42c293b6c174",
      "metadata": {
        "id": "cba51c6d-b890-44a5-82ca-42c293b6c174"
      },
      "source": [
        "Now that we have our circuit, all we have to do is use `dumps` on it to create a QASM string."
      ]
    },
    {
      "cell_type": "code",
      "execution_count": 3,
      "id": "a9ad9f77-e559-4872-a832-3062a940a5de",
      "metadata": {
        "colab": {
          "base_uri": "https://localhost:8080/",
          "height": 70
        },
        "id": "a9ad9f77-e559-4872-a832-3062a940a5de",
        "outputId": "eff49633-2de8-495d-bb1c-541dec4d176a"
      },
      "outputs": [
        {
          "data": {
            "text/plain": [
              "'OPENQASM 2.0;\\ninclude \"qelib1.inc\";\\nqreg q[3];\\ncreg c[3];\\nh q[0];\\ncx q[0],q[1];\\ncx q[0],q[2];\\nbarrier q[0],q[1],q[2];\\nmeasure q[0] -> c[0];\\nmeasure q[1] -> c[1];\\nmeasure q[2] -> c[2];'"
            ]
          },
          "execution_count": 3,
          "metadata": {},
          "output_type": "execute_result"
        }
      ],
      "source": [
        "from qiskit.qasm2 import dumps\n",
        "\n",
        "qasm_str = dumps(qc)\n",
        "qasm_str\n"
      ]
    },
    {
      "cell_type": "markdown",
      "id": "72bb063d-a583-45c2-ad74-aa01ce409078",
      "metadata": {
        "id": "72bb063d-a583-45c2-ad74-aa01ce409078"
      },
      "source": [
        "Voila! We now have a QASM string that can be used directly. Let's also import it to double check that it worked."
      ]
    },
    {
      "cell_type": "code",
      "execution_count": 7,
      "id": "c178324a-e4e4-4627-930f-495fd4e5b614",
      "metadata": {
        "colab": {
          "base_uri": "https://localhost:8080/",
          "height": 156
        },
        "id": "c178324a-e4e4-4627-930f-495fd4e5b614",
        "outputId": "bd6f7dd9-44c6-4c8b-ceb0-489c856bae0d"
      },
      "outputs": [
        {
          "data": {
            "text/html": [
              "<pre style=\"word-wrap: normal;white-space: pre;background: #fff0;line-height: 1.1;font-family: &quot;Courier New&quot;,Courier,monospace\">     ┌───┐           ░ ┌─┐      \n",
              "q_0: ┤ H ├──■────■───░─┤M├──────\n",
              "     └───┘┌─┴─┐  │   ░ └╥┘┌─┐   \n",
              "q_1: ─────┤ X ├──┼───░──╫─┤M├───\n",
              "          └───┘┌─┴─┐ ░  ║ └╥┘┌─┐\n",
              "q_2: ──────────┤ X ├─░──╫──╫─┤M├\n",
              "               └───┘ ░  ║  ║ └╥┘\n",
              "c: 3/═══════════════════╩══╩══╩═\n",
              "                        0  1  2 </pre>"
            ],
            "text/plain": [
              "     ┌───┐           ░ ┌─┐      \n",
              "q_0: ┤ H ├──■────■───░─┤M├──────\n",
              "     └───┘┌─┴─┐  │   ░ └╥┘┌─┐   \n",
              "q_1: ─────┤ X ├──┼───░──╫─┤M├───\n",
              "          └───┘┌─┴─┐ ░  ║ └╥┘┌─┐\n",
              "q_2: ──────────┤ X ├─░──╫──╫─┤M├\n",
              "               └───┘ ░  ║  ║ └╥┘\n",
              "c: 3/═══════════════════╩══╩══╩═\n",
              "                        0  1  2 "
            ]
          },
          "execution_count": 7,
          "metadata": {},
          "output_type": "execute_result"
        }
      ],
      "source": [
        "circ = QuantumCircuit.from_qasm_str(qasm_str)\n",
        "circ.draw()"
      ]
    },
    {
      "cell_type": "markdown",
      "id": "0b1862c8-495a-47dc-9f44-5820a8245d19",
      "metadata": {
        "id": "0b1862c8-495a-47dc-9f44-5820a8245d19"
      },
      "source": [
        "It indeed works correctly."
      ]
    },
    {
      "cell_type": "markdown",
      "id": "cba659cc-751a-4322-98d3-1abe25a2034b",
      "metadata": {
        "id": "cba659cc-751a-4322-98d3-1abe25a2034b"
      },
      "source": [
        "### Circuit Depth\n",
        "\n",
        "We will now see how to obtain the depth of a circuit and how a barrier changes things."
      ]
    },
    {
      "cell_type": "code",
      "execution_count": 11,
      "id": "853c9c35-40ae-409c-a36f-77e25ccc0713",
      "metadata": {
        "colab": {
          "base_uri": "https://localhost:8080/",
          "height": 125
        },
        "id": "853c9c35-40ae-409c-a36f-77e25ccc0713",
        "outputId": "dd987641-9398-419b-84d6-c7685ab1d05d"
      },
      "outputs": [
        {
          "data": {
            "text/html": [
              "<pre style=\"word-wrap: normal;white-space: pre;background: #fff0;line-height: 1.1;font-family: &quot;Courier New&quot;,Courier,monospace\">     ┌───┐\n",
              "q_0: ┤ H ├\n",
              "     ├───┤\n",
              "q_1: ┤ X ├\n",
              "     ├───┤\n",
              "q_2: ┤ H ├\n",
              "     └───┘</pre>"
            ],
            "text/plain": [
              "     ┌───┐\n",
              "q_0: ┤ H ├\n",
              "     ├───┤\n",
              "q_1: ┤ X ├\n",
              "     ├───┤\n",
              "q_2: ┤ H ├\n",
              "     └───┘"
            ]
          },
          "execution_count": 11,
          "metadata": {},
          "output_type": "execute_result"
        }
      ],
      "source": [
        "circ = QuantumCircuit(3)\n",
        "circ.h(0)\n",
        "circ.x(1)\n",
        "circ.h(2)\n",
        "circ.draw()"
      ]
    },
    {
      "cell_type": "markdown",
      "id": "40646d73-0383-4642-8507-a29187747e53",
      "metadata": {
        "id": "40646d73-0383-4642-8507-a29187747e53"
      },
      "source": [
        "We can directly call the .depth() method to print out the depth of this circuit."
      ]
    },
    {
      "cell_type": "code",
      "execution_count": 12,
      "id": "dafbc019-0cc3-4f73-9c73-d54ed678673c",
      "metadata": {
        "colab": {
          "base_uri": "https://localhost:8080/"
        },
        "id": "dafbc019-0cc3-4f73-9c73-d54ed678673c",
        "outputId": "c508fa74-8b09-4cf4-a191-689bff32d934"
      },
      "outputs": [
        {
          "data": {
            "text/plain": [
              "1"
            ]
          },
          "execution_count": 12,
          "metadata": {},
          "output_type": "execute_result"
        }
      ],
      "source": [
        "circ.depth()"
      ]
    },
    {
      "cell_type": "markdown",
      "id": "5c0dada0-b556-4e02-98d0-79e00f13838a",
      "metadata": {
        "id": "5c0dada0-b556-4e02-98d0-79e00f13838a"
      },
      "source": [
        "As expected, the depth is 1. Let's now add a barrier to the middle of the circuit and see what happens."
      ]
    },
    {
      "cell_type": "code",
      "execution_count": 13,
      "id": "eddb6e63-be13-4aa1-978e-d614fe0327c9",
      "metadata": {
        "colab": {
          "base_uri": "https://localhost:8080/",
          "height": 125
        },
        "id": "eddb6e63-be13-4aa1-978e-d614fe0327c9",
        "outputId": "925d2074-37f3-45be-9238-824d1925228d",
        "tags": []
      },
      "outputs": [
        {
          "data": {
            "text/html": [
              "<pre style=\"word-wrap: normal;white-space: pre;background: #fff0;line-height: 1.1;font-family: &quot;Courier New&quot;,Courier,monospace\">     ┌───┐ ░      \n",
              "q_0: ┤ H ├─░──────\n",
              "     └───┘ ░ ┌───┐\n",
              "q_1: ──────░─┤ X ├\n",
              "           ░ ├───┤\n",
              "q_2: ──────░─┤ H ├\n",
              "           ░ └───┘</pre>"
            ],
            "text/plain": [
              "     ┌───┐ ░      \n",
              "q_0: ┤ H ├─░──────\n",
              "     └───┘ ░ ┌───┐\n",
              "q_1: ──────░─┤ X ├\n",
              "           ░ ├───┤\n",
              "q_2: ──────░─┤ H ├\n",
              "           ░ └───┘"
            ]
          },
          "execution_count": 13,
          "metadata": {},
          "output_type": "execute_result"
        }
      ],
      "source": [
        "circ = QuantumCircuit(3)\n",
        "circ.h(0)\n",
        "circ.barrier()\n",
        "circ.x(1)\n",
        "circ.h(2)\n",
        "circ.draw()"
      ]
    },
    {
      "cell_type": "code",
      "execution_count": 14,
      "id": "da554b5f-7ba1-4ecc-8315-40e2521f5faa",
      "metadata": {
        "colab": {
          "base_uri": "https://localhost:8080/"
        },
        "id": "da554b5f-7ba1-4ecc-8315-40e2521f5faa",
        "outputId": "7c926644-bb2a-4a53-be14-350629556cdb"
      },
      "outputs": [
        {
          "data": {
            "text/plain": [
              "2"
            ]
          },
          "execution_count": 14,
          "metadata": {},
          "output_type": "execute_result"
        }
      ],
      "source": [
        "circ.depth()"
      ]
    },
    {
      "cell_type": "markdown",
      "id": "78d5b971-8a71-4dbe-ba2f-09cb71390f4f",
      "metadata": {
        "id": "78d5b971-8a71-4dbe-ba2f-09cb71390f4f"
      },
      "source": [
        "This is a direct demonstration of what we've talked in Module 2 about Barriers. The barrier not only acts as a visual separator to keep your circuits looking clean, but also as a directive for the backends to execute the circuit in batches. Since we have a barrier mid-circuit here, we created 2 batches and the circuit depth has become 2."
      ]
    },
    {
      "cell_type": "markdown",
      "id": "56afeb19-68ff-49ee-b36a-334a63e6832e",
      "metadata": {
        "id": "56afeb19-68ff-49ee-b36a-334a63e6832e"
      },
      "source": [
        "### Qiskit Version\n",
        "\n",
        "Are you having problems with some packages you're using along with Qiskit? Are you getting weird error messages?\n",
        "First thing to check is your Qiskit version in such a case. It's very simple."
      ]
    },
    {
      "cell_type": "code",
      "execution_count": 15,
      "id": "3cdeb0a0-df51-4d54-ba39-abc4a39a5d57",
      "metadata": {
        "colab": {
          "base_uri": "https://localhost:8080/",
          "height": 35
        },
        "id": "3cdeb0a0-df51-4d54-ba39-abc4a39a5d57",
        "outputId": "0f1ca1fa-e584-49f1-b376-5b5b4ed479fa"
      },
      "outputs": [
        {
          "data": {
            "text/plain": [
              "'1.2.1'"
            ]
          },
          "execution_count": 15,
          "metadata": {},
          "output_type": "execute_result"
        }
      ],
      "source": [
        "import qiskit\n",
        "qiskit.__version__"
      ]
    },
    {
      "cell_type": "markdown",
      "id": "0cb60972-30ca-4703-ba33-e4574ad9d753",
      "metadata": {
        "id": "0cb60972-30ca-4703-ba33-e4574ad9d753"
      },
      "source": [
        "### Backend Overview & Gate/Error Maps\n",
        "\n",
        "We've seen before that we can simply go to our Dashboard and check which machines are available to us.\n",
        "Now let's see a more convenient way of checking which machines are available to us directly from our notebook environment."
      ]
    },
    {
      "cell_type": "code",
      "execution_count": 51,
      "id": "91475d17-6883-4807-82b6-30fea367e088",
      "metadata": {
        "colab": {
          "base_uri": "https://localhost:8080/",
          "height": 391
        },
        "id": "91475d17-6883-4807-82b6-30fea367e088",
        "outputId": "8c108a39-f8af-4ff2-9166-755a75dbb518"
      },
      "outputs": [
        {
          "ename": "AccountNotFoundError",
          "evalue": "'Unable to find account.'",
          "output_type": "error",
          "traceback": [
            "\u001b[0;31m---------------------------------------------------------------------------\u001b[0m",
            "\u001b[0;31mAccountNotFoundError\u001b[0m                      Traceback (most recent call last)",
            "\u001b[0;32m<ipython-input-51-0174c031862b>\u001b[0m in \u001b[0;36m<cell line: 6>\u001b[0;34m()\u001b[0m\n\u001b[1;32m      4\u001b[0m \u001b[0;34m\u001b[0m\u001b[0m\n\u001b[1;32m      5\u001b[0m \u001b[0;32mfrom\u001b[0m \u001b[0mqiskit_ibm_runtime\u001b[0m \u001b[0;32mimport\u001b[0m \u001b[0mQiskitRuntimeService\u001b[0m\u001b[0;34m\u001b[0m\u001b[0;34m\u001b[0m\u001b[0m\n\u001b[0;32m----> 6\u001b[0;31m \u001b[0mservice\u001b[0m \u001b[0;34m=\u001b[0m \u001b[0mQiskitRuntimeService\u001b[0m\u001b[0;34m(\u001b[0m\u001b[0minstance\u001b[0m\u001b[0;34m=\u001b[0m\u001b[0;34m\"ibm-q/open/main\"\u001b[0m\u001b[0;34m)\u001b[0m\u001b[0;34m\u001b[0m\u001b[0;34m\u001b[0m\u001b[0m\n\u001b[0m\u001b[1;32m      7\u001b[0m \u001b[0;34m\u001b[0m\u001b[0m\n\u001b[1;32m      8\u001b[0m \u001b[0mservice\u001b[0m\u001b[0;34m.\u001b[0m\u001b[0mbackends\u001b[0m\u001b[0;34m(\u001b[0m\u001b[0;34m)\u001b[0m\u001b[0;34m\u001b[0m\u001b[0;34m\u001b[0m\u001b[0m\n",
            "\u001b[0;32m/usr/local/lib/python3.10/dist-packages/qiskit_ibm_runtime/qiskit_runtime_service.py\u001b[0m in \u001b[0;36m__init__\u001b[0;34m(self, channel, token, url, filename, name, instance, proxies, verify, channel_strategy, private_endpoint, url_resolver)\u001b[0m\n\u001b[1;32m    142\u001b[0m             )\n\u001b[1;32m    143\u001b[0m \u001b[0;34m\u001b[0m\u001b[0m\n\u001b[0;32m--> 144\u001b[0;31m         self._account = self._discover_account(\n\u001b[0m\u001b[1;32m    145\u001b[0m             \u001b[0mtoken\u001b[0m\u001b[0;34m=\u001b[0m\u001b[0mtoken\u001b[0m\u001b[0;34m,\u001b[0m\u001b[0;34m\u001b[0m\u001b[0;34m\u001b[0m\u001b[0m\n\u001b[1;32m    146\u001b[0m             \u001b[0murl\u001b[0m\u001b[0;34m=\u001b[0m\u001b[0murl\u001b[0m\u001b[0;34m,\u001b[0m\u001b[0;34m\u001b[0m\u001b[0;34m\u001b[0m\u001b[0m\n",
            "\u001b[0;32m/usr/local/lib/python3.10/dist-packages/qiskit_ibm_runtime/qiskit_runtime_service.py\u001b[0m in \u001b[0;36m_discover_account\u001b[0;34m(self, token, url, instance, channel, filename, name, proxies, verify, channel_strategy)\u001b[0m\n\u001b[1;32m    265\u001b[0m         \u001b[0;31m# channel is not defined yet, get it from the AccountManager\u001b[0m\u001b[0;34m\u001b[0m\u001b[0;34m\u001b[0m\u001b[0m\n\u001b[1;32m    266\u001b[0m         \u001b[0;32mif\u001b[0m \u001b[0maccount\u001b[0m \u001b[0;32mis\u001b[0m \u001b[0;32mNone\u001b[0m\u001b[0;34m:\u001b[0m\u001b[0;34m\u001b[0m\u001b[0;34m\u001b[0m\u001b[0m\n\u001b[0;32m--> 267\u001b[0;31m             \u001b[0maccount\u001b[0m \u001b[0;34m=\u001b[0m \u001b[0mAccountManager\u001b[0m\u001b[0;34m.\u001b[0m\u001b[0mget\u001b[0m\u001b[0;34m(\u001b[0m\u001b[0mfilename\u001b[0m\u001b[0;34m=\u001b[0m\u001b[0mfilename\u001b[0m\u001b[0;34m)\u001b[0m\u001b[0;34m\u001b[0m\u001b[0;34m\u001b[0m\u001b[0m\n\u001b[0m\u001b[1;32m    268\u001b[0m \u001b[0;34m\u001b[0m\u001b[0m\n\u001b[1;32m    269\u001b[0m         \u001b[0;32mif\u001b[0m \u001b[0minstance\u001b[0m\u001b[0;34m:\u001b[0m\u001b[0;34m\u001b[0m\u001b[0;34m\u001b[0m\u001b[0m\n",
            "\u001b[0;32m/usr/local/lib/python3.10/dist-packages/qiskit_ibm_runtime/accounts/management.py\u001b[0m in \u001b[0;36mget\u001b[0;34m(cls, filename, name, channel)\u001b[0m\n\u001b[1;32m    195\u001b[0m                 \u001b[0;32mreturn\u001b[0m \u001b[0mAccount\u001b[0m\u001b[0;34m.\u001b[0m\u001b[0mfrom_saved_format\u001b[0m\u001b[0;34m(\u001b[0m\u001b[0mall_config\u001b[0m\u001b[0;34m[\u001b[0m\u001b[0maccount_name\u001b[0m\u001b[0;34m]\u001b[0m\u001b[0;34m)\u001b[0m\u001b[0;34m\u001b[0m\u001b[0;34m\u001b[0m\u001b[0m\n\u001b[1;32m    196\u001b[0m \u001b[0;34m\u001b[0m\u001b[0m\n\u001b[0;32m--> 197\u001b[0;31m         \u001b[0;32mraise\u001b[0m \u001b[0mAccountNotFoundError\u001b[0m\u001b[0;34m(\u001b[0m\u001b[0;34m\"Unable to find account.\"\u001b[0m\u001b[0;34m)\u001b[0m\u001b[0;34m\u001b[0m\u001b[0;34m\u001b[0m\u001b[0m\n\u001b[0m\u001b[1;32m    198\u001b[0m \u001b[0;34m\u001b[0m\u001b[0m\n\u001b[1;32m    199\u001b[0m     \u001b[0;34m@\u001b[0m\u001b[0mclassmethod\u001b[0m\u001b[0;34m\u001b[0m\u001b[0;34m\u001b[0m\u001b[0m\n",
            "\u001b[0;31mAccountNotFoundError\u001b[0m: 'Unable to find account.'"
          ]
        }
      ],
      "source": [
        "# import qiskit.tools.jupyter\n",
        "# %qiskit_backend_overview\n",
        "\n",
        "from qiskit_ibm_runtime import QiskitRuntimeService\n",
        "service = QiskitRuntimeService(instance=\"ibm-q/open/main\")\n",
        "\n",
        "service.backends()"
      ]
    },
    {
      "cell_type": "markdown",
      "id": "cfcd0943-2869-4f5e-ba3b-5f39e6569f0d",
      "metadata": {
        "id": "cfcd0943-2869-4f5e-ba3b-5f39e6569f0d"
      },
      "source": [
        "That already gives us a good overview, but what if we required more specific information about the couplings within the chip and their specific specs. Error rates depend very much on fabrication, and even within the same chip we can have different two qubit gate error rates between different qubits. When running experiments on real devices, it's always good practice to get as much information about the chip you will be using and use the two qubits with lowest error rates if it's possible.\n",
        "\n",
        "First of all, let's print out a specific chip we'd like to use."
      ]
    },
    {
      "cell_type": "code",
      "execution_count": 22,
      "id": "e437bc72-4efb-45fb-bab9-c9dfbe6f536a",
      "metadata": {
        "colab": {
          "base_uri": "https://localhost:8080/",
          "height": 245
        },
        "id": "e437bc72-4efb-45fb-bab9-c9dfbe6f536a",
        "outputId": "e3dd3c72-9003-4b6e-cc0d-68b15144c01e"
      },
      "outputs": [
        {
          "data": {
            "image/png": "[encoded data removed]",
            "text/plain": [
              "<Figure size 271.4x271.4 with 1 Axes>"
            ]
          },
          "execution_count": 22,
          "metadata": {},
          "output_type": "execute_result"
        }
      ],
      "source": [
        "from qiskit.visualization import plot_gate_map\n",
        "# from qiskit.providers.fake_provider import FakeProvider # changed from IBM provider\n",
        "# backend = qiskit.providers.fake_provider.get_backend('fake_manila')\n",
        "from qiskit_ibm_runtime.fake_provider import FakeManilaV2\n",
        "\n",
        "backend = FakeManilaV2()\n",
        "plot_gate_map(backend, plot_directed=True)\n"
      ]
    },
    {
      "cell_type": "markdown",
      "id": "56fd910b-f0ea-4840-b729-db54a56cbeb7",
      "metadata": {
        "id": "56fd910b-f0ea-4840-b729-db54a56cbeb7"
      },
      "source": [
        "Then, let's obtain the error information."
      ]
    },
    {
      "cell_type": "code",
      "execution_count": 23,
      "id": "e11d3aac-e400-4999-8a25-d27936bcda2b",
      "metadata": {
        "colab": {
          "base_uri": "https://localhost:8080/",
          "height": 536
        },
        "id": "e11d3aac-e400-4999-8a25-d27936bcda2b",
        "outputId": "aa3a6af3-834a-4460-8687-c61c4adf0fb1"
      },
      "outputs": [
        {
          "data": {
            "image/png": "[encoded data removed]",
            "text/plain": [
              "<Figure size 1500x1200 with 5 Axes>"
            ]
          },
          "execution_count": 23,
          "metadata": {},
          "output_type": "execute_result"
        }
      ],
      "source": [
        "plot_error_map(backend)"
      ]
    },
    {
      "cell_type": "markdown",
      "id": "ff8320f6-cbc2-49d9-98b5-b72eba600326",
      "metadata": {
        "id": "ff8320f6-cbc2-49d9-98b5-b72eba600326"
      },
      "source": [
        "### Coupling Maps\n",
        "\n",
        "Another interesting concept within Qiskit is to explicitly define a coupling map for running a simulation. It is usually used to model the hardware constraints, however we can demonstrate it on the QASM simulator and tell it what kind of a chip emulation we want. For example, we can choose a 3 qubit code with a linear chain of qubits."
      ]
    },
    {
      "cell_type": "code",
      "execution_count": 42,
      "id": "VI_1mnCaa03H",
      "metadata": {
        "colab": {
          "base_uri": "https://localhost:8080/"
        },
        "id": "VI_1mnCaa03H",
        "outputId": "59a0efba-d232-43c8-e6b3-0da1cd626489"
      },
      "outputs": [
        {
          "name": "stdout",
          "output_type": "stream",
          "text": [
            "{'011': 512, '000': 512}\n"
          ]
        },
        {
          "name": "stderr",
          "output_type": "stream",
          "text": [
            "/usr/local/lib/python3.10/dist-packages/qiskit/providers/fake_provider/generic_backend_v2.py:963: RuntimeWarning: Aer not found using BasicSimulator and no noise\n",
            "  warnings.warn(\"Aer not found using BasicSimulator and no noise\", RuntimeWarning)\n"
          ]
        }
      ],
      "source": [
        "from qiskit.providers.basic_provider import BasicSimulator\n",
        "from qiskit.providers.fake_provider import GenericBackendV2\n",
        "\n",
        "\n",
        "qubit_number = 3\n",
        "qc = QuantumCircuit(3)\n",
        "qc.h(0)\n",
        "qc.cx(0,1)\n",
        "qc.measure_all()\n",
        "couple_map = [[0,1],[1,2]]\n",
        "\n",
        "backend = GenericBackendV2(num_qubits=qubit_number, coupling_map=couple_map)\n",
        "transpiled_circuit = transpile(qc, backend)\n",
        "result = backend.run(transpiled_circuit).result()\n",
        "counts = result.get_counts()\n",
        "print(counts)\n"
      ]
    },
    {
      "cell_type": "code",
      "execution_count": 25,
      "id": "9fb69d8f-1cc8-4970-828f-628368ff3f79",
      "metadata": {
        "colab": {
          "base_uri": "https://localhost:8080/"
        },
        "id": "9fb69d8f-1cc8-4970-828f-628368ff3f79",
        "outputId": "abd6c006-872a-4ddb-9a15-bc045340db3a"
      },
      "outputs": [
        {
          "data": {
            "text/plain": [
              "[[0, 1], [1, 2]]"
            ]
          },
          "execution_count": 25,
          "metadata": {},
          "output_type": "execute_result"
        }
      ],
      "source": [
        "couple_map"
      ]
    },
    {
      "cell_type": "markdown",
      "id": "d7c819d2-f808-4492-9cc8-cb6c14474eac",
      "metadata": {
        "id": "d7c819d2-f808-4492-9cc8-cb6c14474eac"
      },
      "source": [
        "That's it! Let's now do a recap of everything and take a look at some of the sample exam questions :)"
      ]
    }
  ],
  "metadata": {
    "colab": {
      "provenance": []
    },
    "kernelspec": {
      "display_name": "Python 3 (ipykernel)",
      "language": "python",
      "name": "python3"
    },
    "language_info": {
      "codemirror_mode": {
        "name": "ipython",
        "version": 3
      },
      "file_extension": ".py",
      "mimetype": "text/x-python",
      "name": "python",
      "nbconvert_exporter": "python",
      "pygments_lexer": "ipython3",
      "version": "3.10.14"
    }
  },
  "nbformat": 4,
  "nbformat_minor": 5
}
